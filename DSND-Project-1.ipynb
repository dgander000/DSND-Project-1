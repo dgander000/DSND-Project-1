{
 "cells": [
  {
   "cell_type": "markdown",
   "metadata": {},
   "source": [
    "# Udacity Data Scienctist Nano Degree Project 1"
   ]
  },
  {
   "cell_type": "markdown",
   "metadata": {},
   "source": [
    "## Project Overview\n",
    "For [Udacity Data Scientist Nano Degree](https://www.udacity.com/course/data-scientist-nanodegree--nd025) project 1 you pick a dataset and using your dataset you choose 3 questions you aspire to answer from the data."
   ]
  },
  {
   "cell_type": "markdown",
   "metadata": {},
   "source": [
    "## Dataset\n",
    "Dataset from the 'Power Laws: Detecting Anomalies in Usage' competition on [drivendata.org](https://www.drivendata.org/competitions/52/anomaly-detection-electricity/page/102/).   \n",
    "\n",
    "Commercial buildings waste an estimated 15% to 30% of energy used due to poorly maintained, degraded, and improperly controlled equipment.  The goal is to detect abnormal energy consumption, find potential energy saving opportunities and provide actionable recommendations.  \n",
    "\n",
    "The dataset includes energy consumption data, information about the buildings, historical weather data and public holiday information.  "
   ]
  },
  {
   "cell_type": "markdown",
   "metadata": {},
   "source": [
    "## Questions\n",
    "Needs more refinement.  Just a rough list at this point.  \n",
    "- How much much energy is being wasted?\n",
    "- What's the environmental impact?\n",
    "- What's the financial impact?\n",
    "- What buildings are prone to wasting engergy?\n",
    "- Is there a time of day more prone to wasting energy?\n",
    "- Is there a season/time of year more prone to wasting energy?\n",
    "- How easy/hard/costly is it to fix energy wasting?\n",
    "\n",
    "Possible outline:  \n",
    "- How much energy is being wasted and the impact\n",
    "- What attributes most to wasting engergy (building, time of day, time of year)\n",
    "- Recommendations to fix"
   ]
  },
  {
   "cell_type": "markdown",
   "metadata": {},
   "source": [
    "## Import neccessary libraries"
   ]
  },
  {
   "cell_type": "code",
   "execution_count": 2,
   "metadata": {},
   "outputs": [],
   "source": [
    "import pandas as pd"
   ]
  },
  {
   "cell_type": "markdown",
   "metadata": {},
   "source": [
    "## Load the data"
   ]
  },
  {
   "cell_type": "code",
   "execution_count": 9,
   "metadata": {},
   "outputs": [],
   "source": [
    "df_holidays = pd.read_csv('~/data/DSND-Project-1/power-laws-detecting-anomalies-in-usage-holidays.csv')\n",
    "df_metadata = pd.read_csv('~/data/DSND-Project-1/power-laws-detecting-anomalies-in-usage-metadata.csv')\n",
    "df_weather = pd.read_csv('~/data/DSND-Project-1/power-laws-detecting-anomalies-in-usage-weather.csv')\n",
    "df_energy = pd.read_csv('~/data/DSND-Project-1/train.csv')"
   ]
  },
  {
   "cell_type": "markdown",
   "metadata": {},
   "source": [
    "## Describe the data"
   ]
  },
  {
   "cell_type": "code",
   "execution_count": 11,
   "metadata": {},
   "outputs": [
    {
     "data": {
      "text/html": [
       "<div>\n",
       "<style scoped>\n",
       "    .dataframe tbody tr th:only-of-type {\n",
       "        vertical-align: middle;\n",
       "    }\n",
       "\n",
       "    .dataframe tbody tr th {\n",
       "        vertical-align: top;\n",
       "    }\n",
       "\n",
       "    .dataframe thead th {\n",
       "        text-align: right;\n",
       "    }\n",
       "</style>\n",
       "<table border=\"1\" class=\"dataframe\">\n",
       "  <thead>\n",
       "    <tr style=\"text-align: right;\">\n",
       "      <th></th>\n",
       "      <th>Date;Holiday;site_id</th>\n",
       "    </tr>\n",
       "  </thead>\n",
       "  <tbody>\n",
       "    <tr>\n",
       "      <th>0</th>\n",
       "      <td>2014-10-28;Ohi Day;334_61</td>\n",
       "    </tr>\n",
       "    <tr>\n",
       "      <th>1</th>\n",
       "      <td>2010-05-24;Whit Monday;334_61</td>\n",
       "    </tr>\n",
       "    <tr>\n",
       "      <th>2</th>\n",
       "      <td>2016-03-28;Easter Monday;038</td>\n",
       "    </tr>\n",
       "    <tr>\n",
       "      <th>3</th>\n",
       "      <td>2012-08-15;Assumption of Mary to Heaven;038</td>\n",
       "    </tr>\n",
       "    <tr>\n",
       "      <th>4</th>\n",
       "      <td>2016-08-15;Assumption of Mary to Heaven;334_61</td>\n",
       "    </tr>\n",
       "  </tbody>\n",
       "</table>\n",
       "</div>"
      ],
      "text/plain": [
       "                             Date;Holiday;site_id\n",
       "0                       2014-10-28;Ohi Day;334_61\n",
       "1                   2010-05-24;Whit Monday;334_61\n",
       "2                    2016-03-28;Easter Monday;038\n",
       "3     2012-08-15;Assumption of Mary to Heaven;038\n",
       "4  2016-08-15;Assumption of Mary to Heaven;334_61"
      ]
     },
     "execution_count": 11,
     "metadata": {},
     "output_type": "execute_result"
    }
   ],
   "source": [
    "df_holidays.head()"
   ]
  },
  {
   "cell_type": "code",
   "execution_count": 12,
   "metadata": {},
   "outputs": [
    {
     "data": {
      "text/html": [
       "<div>\n",
       "<style scoped>\n",
       "    .dataframe tbody tr th:only-of-type {\n",
       "        vertical-align: middle;\n",
       "    }\n",
       "\n",
       "    .dataframe tbody tr th {\n",
       "        vertical-align: top;\n",
       "    }\n",
       "\n",
       "    .dataframe thead th {\n",
       "        text-align: right;\n",
       "    }\n",
       "</style>\n",
       "<table border=\"1\" class=\"dataframe\">\n",
       "  <thead>\n",
       "    <tr style=\"text-align: right;\">\n",
       "      <th></th>\n",
       "      <th>site_id;meter_id;meter_description;units;surface;activity</th>\n",
       "    </tr>\n",
       "  </thead>\n",
       "  <tbody>\n",
       "    <tr>\n",
       "      <th>0</th>\n",
       "      <td>038;38_9759;other;kWh;;office</td>\n",
       "    </tr>\n",
       "    <tr>\n",
       "      <th>1</th>\n",
       "      <td>038;38_9729;other;kWh;;office</td>\n",
       "    </tr>\n",
       "    <tr>\n",
       "      <th>2</th>\n",
       "      <td>038;38_9742;other;kWh;;office</td>\n",
       "    </tr>\n",
       "    <tr>\n",
       "      <th>3</th>\n",
       "      <td>234_203;863;main meter;Wh;5750.0;office</td>\n",
       "    </tr>\n",
       "    <tr>\n",
       "      <th>4</th>\n",
       "      <td>038;38_56030;heating;kWh;;laboratory</td>\n",
       "    </tr>\n",
       "  </tbody>\n",
       "</table>\n",
       "</div>"
      ],
      "text/plain": [
       "  site_id;meter_id;meter_description;units;surface;activity\n",
       "0                      038;38_9759;other;kWh;;office       \n",
       "1                      038;38_9729;other;kWh;;office       \n",
       "2                      038;38_9742;other;kWh;;office       \n",
       "3            234_203;863;main meter;Wh;5750.0;office       \n",
       "4               038;38_56030;heating;kWh;;laboratory       "
      ]
     },
     "execution_count": 12,
     "metadata": {},
     "output_type": "execute_result"
    }
   ],
   "source": [
    "df_metadata.head()"
   ]
  },
  {
   "cell_type": "code",
   "execution_count": 13,
   "metadata": {},
   "outputs": [
    {
     "data": {
      "text/html": [
       "<div>\n",
       "<style scoped>\n",
       "    .dataframe tbody tr th:only-of-type {\n",
       "        vertical-align: middle;\n",
       "    }\n",
       "\n",
       "    .dataframe tbody tr th {\n",
       "        vertical-align: top;\n",
       "    }\n",
       "\n",
       "    .dataframe thead th {\n",
       "        text-align: right;\n",
       "    }\n",
       "</style>\n",
       "<table border=\"1\" class=\"dataframe\">\n",
       "  <thead>\n",
       "    <tr style=\"text-align: right;\">\n",
       "      <th></th>\n",
       "      <th>Timestamp;Temperature;Distance;site_id</th>\n",
       "    </tr>\n",
       "  </thead>\n",
       "  <tbody>\n",
       "    <tr>\n",
       "      <th>0</th>\n",
       "      <td>2013-12-23T19:00:00-06:00;16.0;10.1258193850649;</td>\n",
       "    </tr>\n",
       "    <tr>\n",
       "      <th>1</th>\n",
       "      <td>2013-12-28T18:00:00-06:00;18.0;10.1258193850649;</td>\n",
       "    </tr>\n",
       "    <tr>\n",
       "      <th>2</th>\n",
       "      <td>2013-12-29T04:00:00-06:00;19.1;8.992769136308905;</td>\n",
       "    </tr>\n",
       "    <tr>\n",
       "      <th>3</th>\n",
       "      <td>2013-12-30T00:30:00-06:00;16.0;10.1258193850649;</td>\n",
       "    </tr>\n",
       "    <tr>\n",
       "      <th>4</th>\n",
       "      <td>2014-01-01T03:00:00-06:00;18.0;10.1258193850649;</td>\n",
       "    </tr>\n",
       "  </tbody>\n",
       "</table>\n",
       "</div>"
      ],
      "text/plain": [
       "              Timestamp;Temperature;Distance;site_id\n",
       "0   2013-12-23T19:00:00-06:00;16.0;10.1258193850649;\n",
       "1   2013-12-28T18:00:00-06:00;18.0;10.1258193850649;\n",
       "2  2013-12-29T04:00:00-06:00;19.1;8.992769136308905;\n",
       "3   2013-12-30T00:30:00-06:00;16.0;10.1258193850649;\n",
       "4   2014-01-01T03:00:00-06:00;18.0;10.1258193850649;"
      ]
     },
     "execution_count": 13,
     "metadata": {},
     "output_type": "execute_result"
    }
   ],
   "source": [
    "df_weather.head()"
   ]
  },
  {
   "cell_type": "code",
   "execution_count": 14,
   "metadata": {},
   "outputs": [
    {
     "data": {
      "text/html": [
       "<div>\n",
       "<style scoped>\n",
       "    .dataframe tbody tr th:only-of-type {\n",
       "        vertical-align: middle;\n",
       "    }\n",
       "\n",
       "    .dataframe tbody tr th {\n",
       "        vertical-align: top;\n",
       "    }\n",
       "\n",
       "    .dataframe thead th {\n",
       "        text-align: right;\n",
       "    }\n",
       "</style>\n",
       "<table border=\"1\" class=\"dataframe\">\n",
       "  <thead>\n",
       "    <tr style=\"text-align: right;\">\n",
       "      <th></th>\n",
       "      <th>Unnamed: 0</th>\n",
       "      <th>meter_id</th>\n",
       "      <th>Timestamp</th>\n",
       "      <th>Values</th>\n",
       "    </tr>\n",
       "  </thead>\n",
       "  <tbody>\n",
       "    <tr>\n",
       "      <th>0</th>\n",
       "      <td>2532</td>\n",
       "      <td>2</td>\n",
       "      <td>2015-06-11 00:00:00</td>\n",
       "      <td>2035.0</td>\n",
       "    </tr>\n",
       "    <tr>\n",
       "      <th>1</th>\n",
       "      <td>2543</td>\n",
       "      <td>2</td>\n",
       "      <td>2015-06-11 00:15:00</td>\n",
       "      <td>2074.0</td>\n",
       "    </tr>\n",
       "    <tr>\n",
       "      <th>2</th>\n",
       "      <td>2544</td>\n",
       "      <td>2</td>\n",
       "      <td>2015-06-11 00:30:00</td>\n",
       "      <td>2062.0</td>\n",
       "    </tr>\n",
       "    <tr>\n",
       "      <th>3</th>\n",
       "      <td>2525</td>\n",
       "      <td>2</td>\n",
       "      <td>2015-06-11 00:45:00</td>\n",
       "      <td>2025.0</td>\n",
       "    </tr>\n",
       "    <tr>\n",
       "      <th>4</th>\n",
       "      <td>2534</td>\n",
       "      <td>2</td>\n",
       "      <td>2015-06-11 01:00:00</td>\n",
       "      <td>2034.0</td>\n",
       "    </tr>\n",
       "  </tbody>\n",
       "</table>\n",
       "</div>"
      ],
      "text/plain": [
       "   Unnamed: 0 meter_id            Timestamp  Values\n",
       "0        2532        2  2015-06-11 00:00:00  2035.0\n",
       "1        2543        2  2015-06-11 00:15:00  2074.0\n",
       "2        2544        2  2015-06-11 00:30:00  2062.0\n",
       "3        2525        2  2015-06-11 00:45:00  2025.0\n",
       "4        2534        2  2015-06-11 01:00:00  2034.0"
      ]
     },
     "execution_count": 14,
     "metadata": {},
     "output_type": "execute_result"
    }
   ],
   "source": [
    "df_energy.head()"
   ]
  },
  {
   "cell_type": "code",
   "execution_count": null,
   "metadata": {},
   "outputs": [],
   "source": []
  },
  {
   "cell_type": "code",
   "execution_count": null,
   "metadata": {},
   "outputs": [],
   "source": []
  }
 ],
 "metadata": {
  "kernelspec": {
   "display_name": "Python 3",
   "language": "python",
   "name": "python3"
  },
  "language_info": {
   "codemirror_mode": {
    "name": "ipython",
    "version": 3
   },
   "file_extension": ".py",
   "mimetype": "text/x-python",
   "name": "python",
   "nbconvert_exporter": "python",
   "pygments_lexer": "ipython3",
   "version": "3.7.3"
  }
 },
 "nbformat": 4,
 "nbformat_minor": 2
}
