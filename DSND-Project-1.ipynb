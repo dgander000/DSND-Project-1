{
 "cells": [
  {
   "cell_type": "markdown",
   "metadata": {},
   "source": [
    "# Udacity Data Scienctist Nano Degree Project 1"
   ]
  },
  {
   "cell_type": "markdown",
   "metadata": {},
   "source": [
    "jupyter notebook --NotebookApp.iopub_data_rate_limit=1.0e10"
   ]
  },
  {
   "cell_type": "markdown",
   "metadata": {},
   "source": [
    "## TOC: <a class=\"anchor\" id=\"toc\"></a>\n",
    "* [Project Overview](#overview-bullet)\n",
    "* [Dataset](#dataset-bullet)\n",
    "* [Questions](#questions-bullet)\n",
    "* [Imports](#imports-bullet)\n",
    "* [Common Functions](#common-bullet)\n",
    "* [Load Data](#load-bullet)\n",
    "* [Understand Data](#understand-bullet)"
   ]
  },
  {
   "cell_type": "markdown",
   "metadata": {},
   "source": [
    "## Project Overview <a class=\"anchor\" id=\"overview-bullet\"></a>\n",
    "For [Udacity Data Scientist Nano Degree](https://www.udacity.com/course/data-scientist-nanodegree--nd025) project 1 you pick a dataset and using your dataset you choose 3 questions you aspire to answer from the data."
   ]
  },
  {
   "cell_type": "markdown",
   "metadata": {},
   "source": [
    "## Dataset <a class=\"anchor\" id=\"dataset-bullet\"></a>   \n",
    "[TOC](#toc)   \n",
    "\n"
   ]
  },
  {
   "cell_type": "markdown",
   "metadata": {},
   "source": [
    "## Questions  <a class=\"anchor\" id=\"questions-bullet\"></a>   \n",
    "[TOC](#toc)   \n",
    "\n",
    "understand differences in type of data being used and tools/alg being used   \n",
    "does this vary by:  \n",
    "salary  \n",
    "gender  \n",
    "age  \n",
    "country   \n",
    "level of school  \n",
    "role \n",
    "size of company\n",
    "\n",
    "\n",
    "\n",
    "What is your age (# years)?    \n",
    "What is your gender? - Selected Choice    \n",
    "In which country do you currently reside?   \n",
    "What is the highest level of formal education that you have attained or plan to attain within the next 2 years?    \n",
    "Select the title most similar to your current role (or most recent title if retired): - Selected Choice   \n",
    "What is the size of the company where you are employed?    \n",
    "Approximately how many individuals are responsible for data science workloads at your place of business?    \n",
    "Select any activities that make up an important part of your role at work: (Select all that apply) - Selected Choice   \n",
    "What is your current yearly compensation (approximate $USD)?     \n",
    "Approximately how much money have you spent on machine learning and/or cloud computing products at your work in the past 5 years?   \n",
    "Does your current employer incorporate machine learning methods into their business?    \n",
    "Who/what are your favorite media sources that report on data science topics? (Select all that apply) - Selected Choice    \n",
    "On which platforms have you begun or completed data science courses? (Select all that apply) - Selected Choice \n",
    "What is the primary tool that you use at work or school to analyze data? (Include text response) - Selected Choice   \n",
    "How long have you been writing code to analyze data (at work or at school)?    \n",
    "Which of the following integrated development environments (IDE's) do you use on a regular basis?  (Select all that apply) - Selected Choice    \n",
    "What programming languages do you use on a regular basis? (Select all that apply) - Selected Choice    \n",
    "What programming language would you recommend an aspiring data scientist to learn first? - Selected Choice     \n",
    "What data visualization libraries or tools do you use on a regular basis?  (Select all that apply) - Selected Choice  \n",
    "Which types of specialized hardware do you use on a regular basis?  (Select all that apply) - Selected Choice  \n",
    "\n",
    "Have you ever used a TPU (tensor processing unit)?    \n",
    "For how many years have you used machine learning methods?   \n",
    "Which of the following ML algorithms do you use on a regular basis? (Select all that apply): - Selected Choice    \n",
    "Which categories of ML tools do you use on a regular basis?  (Select all that apply) - Selected Choice  \n",
    "Which categories of computer vision methods do you use on a regular basis?  (Select all that apply) - Selected Choice    \n",
    "Which of the following natural language processing (NLP) methods do you use on a regular basis?  (Select all that apply) - Selected Choice   \n",
    "Which of the following machine learning frameworks do you use on a regular basis? (Select all that apply) - Selected Choice    \n",
    "Which of the following cloud computing platforms do you use on a regular basis? (Select all that apply) - Selected Choice    \n",
    "Which specific cloud computing products do you use on a regular basis? (Select all that apply) - Selected Choice    \n",
    "Which specific big data / analytics products do you use on a regular basis? (Select all that apply) - Selected Choice   \n",
    "Which of the following machine learning products do you use on a regular basis? (Select all that apply) - Selected Choice    \n",
    "\n",
    "\n",
    "\n",
    "\n",
    "Which types of data do you currently interact with most often at work or school? (Select all that apply) - Selected Choice    \n",
    "What is the type of data that you currently interact with most often at work or school? - Selected Choice    \n",
    "Do you consider yourself to be a data scientist?    \n",
    "\n",
    "\n",
    "\n",
    "\n",
    "\n",
    "Needs more refinement.  Just a rough list at this point.  \n",
    "\n",
    "\n",
    "Possible outline:  \n"
   ]
  },
  {
   "cell_type": "markdown",
   "metadata": {},
   "source": [
    "## Imports  <a class=\"anchor\" id=\"imports-bullet\"></a>   "
   ]
  },
  {
   "cell_type": "code",
   "execution_count": 1,
   "metadata": {},
   "outputs": [],
   "source": [
    "import numpy as np\n",
    "import pandas as pd\n",
    "import matplotlib.pyplot as plt\n",
    "import seaborn as sns\n",
    "%matplotlib inline"
   ]
  },
  {
   "cell_type": "markdown",
   "metadata": {},
   "source": [
    "## Common functions  <a class=\"anchor\" id=\"common-bullet\"></a>   \n",
    "[TOC](#toc)"
   ]
  },
  {
   "cell_type": "code",
   "execution_count": 2,
   "metadata": {},
   "outputs": [],
   "source": [
    "def unique_values_info(df):\n",
    "    number_unique_vals = []\n",
    "    percent_unique_vals = []\n",
    "    for col_name in df.columns.tolist():\n",
    "        number_unique_vals.append(len(df[col_name].unique()))\n",
    "        percent_unique_vals.append(round(((len(df[col_name].unique())/df.shape[0])*100),2))\n",
    "    return number_unique_vals, percent_unique_vals"
   ]
  },
  {
   "cell_type": "code",
   "execution_count": 3,
   "metadata": {},
   "outputs": [],
   "source": [
    "def data_range_info(df):\n",
    "    col_data_range = []\n",
    "    col_data_range_count = []\n",
    "    for col_name, col_dtype in zip(df.columns.tolist(), df.dtypes.tolist()):\n",
    "        if col_dtype in ['int64', 'float64', 'datetime64[ns]']:\n",
    "            col_data_range.append([df[col_name].min(), df[col_name].max()])\n",
    "            col_data_range_count.append([])\n",
    "        else:\n",
    "            #col_data_range.append(df[col_name].unique().tolist())\n",
    "            col_data_range.append(df[col_name].value_counts().index.tolist())\n",
    "            col_data_range_count.append(df[col_name].value_counts().tolist())\n",
    "    return col_data_range, col_data_range_count"
   ]
  },
  {
   "cell_type": "code",
   "execution_count": 4,
   "metadata": {},
   "outputs": [],
   "source": [
    "def get_dataframe_info(df):\n",
    "    info = {}\n",
    "    \n",
    "    num_rows = df.shape[0]\n",
    "    num_cols = df.shape[1]\n",
    "    num_nans = df.isnull().sum(axis=0).sum()\n",
    "    \n",
    "    info['name'] = df.columns.tolist()\n",
    "    info['dtype'] = df.dtypes.tolist()\n",
    "    nans = df.isnull().sum(axis=0).tolist()\n",
    "    info['num_nans'] = nans\n",
    "    pct_nans = [round((nan/df.shape[0])*100,2) for nan in nans]\n",
    "    info['pct_nans'] = pct_nans\n",
    "    \n",
    "    col_data_range, col_data_range_count = data_range_info(df)\n",
    "    info['data_range'] = col_data_range\n",
    "    info['data_range_count'] = col_data_range_count\n",
    "    \n",
    "    col_number_unique_vals, col_percent_unique_vals = unique_values_info(df)\n",
    "    info['num_unique'] = col_number_unique_vals\n",
    "    info['pct_unique'] = col_percent_unique_vals\n",
    "    \n",
    "    df_info = pd.DataFrame(info) \n",
    "    df_info.set_index('name', inplace = True) \n",
    "        \n",
    "    return num_rows, num_cols, num_nans, df_info"
   ]
  },
  {
   "cell_type": "code",
   "execution_count": 5,
   "metadata": {},
   "outputs": [],
   "source": [
    "def convert_string_to_number(df, columns):\n",
    "    for column in columns:\n",
    "        df[column] = df[column].str.replace(r'\\D+', '')\n",
    "        df[column] = pd.to_numeric(df[column], errors='coerce')\n",
    "    return df"
   ]
  },
  {
   "cell_type": "code",
   "execution_count": null,
   "metadata": {},
   "outputs": [],
   "source": []
  },
  {
   "cell_type": "markdown",
   "metadata": {},
   "source": [
    "## Load the data"
   ]
  },
  {
   "cell_type": "code",
   "execution_count": 6,
   "metadata": {},
   "outputs": [],
   "source": [
    "df_2018 = pd.read_csv('~/data/kaggle-survey/kaggle-survey-2018/multipleChoiceResponses.csv', encoding=\"ISO-8859-1\", low_memory=False)\n",
    "df_2019 = pd.read_csv('~/data/kaggle-survey/kaggle-survey-2019/multiple_choice_responses.csv', encoding=\"ISO-8859-1\", low_memory=False)"
   ]
  },
  {
   "cell_type": "markdown",
   "metadata": {},
   "source": [
    "## Data prep"
   ]
  },
  {
   "cell_type": "code",
   "execution_count": 7,
   "metadata": {},
   "outputs": [],
   "source": [
    "df_2018.columns = df_2018.iloc[0]\n",
    "df_2018 = df_2018.drop([0])\n",
    "\n",
    "df_2019.columns = df_2019.iloc[0]\n",
    "df_2019 = df_2019.drop([0])"
   ]
  },
  {
   "cell_type": "code",
   "execution_count": 8,
   "metadata": {},
   "outputs": [],
   "source": [
    "df_2018['In which country do you currently reside?'] = df_2018['In which country do you currently reside?'].str.replace('United Kingdom of Great Britain and Northern Ireland', 'United Kingdom', regex=False)\n",
    "df_2018['In which country do you currently reside?'] = df_2018['In which country do you currently reside?'].str.replace('United States of America', 'United States', regex=False)\n",
    "\n",
    "df_2019['In which country do you currently reside?'] = df_2019['In which country do you currently reside?'].str.replace('United Kingdom of Great Britain and Northern Ireland', 'United Kingdom', regex=False)\n",
    "df_2019['In which country do you currently reside?'] = df_2019['In which country do you currently reside?'].str.replace('United States of America' , 'United States', regex=False)"
   ]
  },
  {
   "cell_type": "code",
   "execution_count": 9,
   "metadata": {},
   "outputs": [],
   "source": [
    "df_2018['For how many years have you used machine learning methods (at work or in school)?'] = df_2018['For how many years have you used machine learning methods (at work or in school)?'].str.replace('I have never studied machine learning but plan to learn in the future', 'Never but plan to', regex=False)\n",
    "df_2018['For how many years have you used machine learning methods (at work or in school)?'] = df_2018['For how many years have you used machine learning methods (at work or in school)?'].str.replace('I have never studied machine learning and I do not plan to', 'Never do not plan to', regex=False)"
   ]
  },
  {
   "cell_type": "code",
   "execution_count": 10,
   "metadata": {},
   "outputs": [],
   "source": [
    "df_2018['What is your current yearly compensation (approximate $USD)?'] = df_2018['What is your current yearly compensation (approximate $USD)?'].str.replace('I do not wish to disclose my approximate yearly compensation', 'Did not disclose', regex=False)"
   ]
  },
  {
   "cell_type": "code",
   "execution_count": 11,
   "metadata": {},
   "outputs": [],
   "source": [
    "df_2018['CompensationRange'] = df_2018['What is your current yearly compensation (approximate $USD)?']\n",
    "df_2018.loc[(df_2018['CompensationRange'] == '0-10,000'),'CompensationRange'] = '0-10k'\n",
    "\n",
    "df_2018.loc[(df_2018['CompensationRange'] == '10-20,000'),'CompensationRange'] = '10-50k'\n",
    "df_2018.loc[(df_2018['CompensationRange'] == '20-30,000'),'CompensationRange'] = '10-50k'\n",
    "df_2018.loc[(df_2018['CompensationRange'] == '30-40,000'),'CompensationRange'] = '10-50k'\n",
    "df_2018.loc[(df_2018['CompensationRange'] == '40-50,000'),'CompensationRange'] = '10-50k'\n",
    "\n",
    "df_2018.loc[(df_2018['CompensationRange'] == '50-60,000'),'CompensationRange'] = '50-100k'\n",
    "df_2018.loc[(df_2018['CompensationRange'] == '60-70,000'),'CompensationRange'] = '50-100k'\n",
    "df_2018.loc[(df_2018['CompensationRange'] == '70-80,000'),'CompensationRange'] = '50-100k'\n",
    "df_2018.loc[(df_2018['CompensationRange'] == '80-90,000'),'CompensationRange'] = '50-100k'\n",
    "df_2018.loc[(df_2018['CompensationRange'] == '90-100,000'),'CompensationRange'] = '50-100k'\n",
    "\n",
    "df_2018.loc[(df_2018['CompensationRange'] == '100-125,000'),'CompensationRange'] = '100-200k'\n",
    "df_2018.loc[(df_2018['CompensationRange'] == '125-150,000'),'CompensationRange'] = '100-200k'\n",
    "df_2018.loc[(df_2018['CompensationRange'] == '150-200,000'),'CompensationRange'] = '100-200k'\n",
    "\n",
    "df_2018.loc[(df_2018['CompensationRange'] == '200-250,000'),'CompensationRange'] = '200-300k'\n",
    "df_2018.loc[(df_2018['CompensationRange'] == '250-300,000'),'CompensationRange'] = '200-300k'\n",
    "\n",
    "df_2018.loc[(df_2018['CompensationRange'] == '300-400,000'),'CompensationRange'] = '300-500k'\n",
    "df_2018.loc[(df_2018['CompensationRange'] == '400-500,000'),'CompensationRange'] = '300-500k'\n",
    "\n",
    "df_2018.loc[(df_2018['CompensationRange'] == '500,000+'),'CompensationRange'] = '500k+'"
   ]
  },
  {
   "cell_type": "code",
   "execution_count": 12,
   "metadata": {},
   "outputs": [],
   "source": [
    "df_2018['CompensationRange'] = df_2018['CompensationRange'].replace('Did not disclose', np.nan)"
   ]
  },
  {
   "cell_type": "code",
   "execution_count": 13,
   "metadata": {},
   "outputs": [],
   "source": [
    "df_2019['CompensationRange'] = df_2019['What is your current yearly compensation (approximate $USD)?']\n",
    "df_2019.loc[(df_2019['CompensationRange'] == '$0-999'),'CompensationRange'] = '0-10k'\n",
    "df_2019.loc[(df_2019['CompensationRange'] == '1,000-1,999'),'CompensationRange'] = '0-10k'\n",
    "df_2019.loc[(df_2019['CompensationRange'] == '2,000-2,999'),'CompensationRange'] = '0-10k'\n",
    "df_2019.loc[(df_2019['CompensationRange'] == '3,000-3,999'),'CompensationRange'] = '0-10k'\n",
    "df_2019.loc[(df_2019['CompensationRange'] == '4,000-4,999'),'CompensationRange'] = '0-10k'\n",
    "df_2019.loc[(df_2019['CompensationRange'] == '5,000-7,499'),'CompensationRange'] = '0-10k'\n",
    "df_2019.loc[(df_2019['CompensationRange'] == '7,500-9,999'),'CompensationRange'] = '0-10k'\n",
    "\n",
    "df_2019.loc[(df_2019['CompensationRange'] == '10,000-14,999'),'CompensationRange'] = '10-50k'\n",
    "df_2019.loc[(df_2019['CompensationRange'] == '15,000-19,999'),'CompensationRange'] = '10-50k'\n",
    "df_2019.loc[(df_2019['CompensationRange'] == '20,000-24,999'),'CompensationRange'] = '10-50k'\n",
    "df_2019.loc[(df_2019['CompensationRange'] == '25,000-29,999'),'CompensationRange'] = '10-50k'\n",
    "df_2019.loc[(df_2019['CompensationRange'] == '30,000-39,999'),'CompensationRange'] = '10-50k'\n",
    "df_2019.loc[(df_2019['CompensationRange'] == '40,000-49,999'),'CompensationRange'] = '10-50k'\n",
    "\n",
    "df_2019.loc[(df_2019['CompensationRange'] == '50,000-59,999'),'CompensationRange'] = '50-100k'\n",
    "df_2019.loc[(df_2019['CompensationRange'] == '60,000-69,999'),'CompensationRange'] = '50-100k'\n",
    "df_2019.loc[(df_2019['CompensationRange'] == '70,000-79,999'),'CompensationRange'] = '50-100k'\n",
    "df_2019.loc[(df_2019['CompensationRange'] == '80,000-89,999'),'CompensationRange'] = '50-100k'\n",
    "df_2019.loc[(df_2019['CompensationRange'] == '90,000-99,999'),'CompensationRange'] = '50-100k'\n",
    "\n",
    "df_2019.loc[(df_2019['CompensationRange'] == '100,000-124,999'),'CompensationRange'] = '100-200k'\n",
    "df_2019.loc[(df_2019['CompensationRange'] == '125,000-149,999'),'CompensationRange'] = '100-200k'\n",
    "df_2019.loc[(df_2019['CompensationRange'] == '150,000-199,999'),'CompensationRange'] = '100-200k'\n",
    "\n",
    "df_2019.loc[(df_2019['CompensationRange'] == '200,000-249,999'),'CompensationRange'] = '200-300k'\n",
    "df_2019.loc[(df_2019['CompensationRange'] == '250,000-299,999'),'CompensationRange'] = '200-300k'\n",
    "\n",
    "df_2019.loc[(df_2019['CompensationRange'] == '300,000-500,000'),'CompensationRange'] = '300-500k'\n",
    "\n",
    "df_2019.loc[(df_2019['CompensationRange'] == '> $500,000'),'CompensationRange'] = '500k+'"
   ]
  },
  {
   "cell_type": "code",
   "execution_count": null,
   "metadata": {},
   "outputs": [],
   "source": []
  },
  {
   "cell_type": "code",
   "execution_count": null,
   "metadata": {},
   "outputs": [],
   "source": []
  },
  {
   "cell_type": "code",
   "execution_count": 15,
   "metadata": {},
   "outputs": [
    {
     "data": {
      "image/png": "[encoded data removed]",
      "text/plain": [
       "<Figure size 720x432 with 1 Axes>"
      ]
     },
     "metadata": {
      "needs_background": "light"
     },
     "output_type": "display_data"
    }
   ],
   "source": [
    "df_2019['What is your current yearly compensation (approximate $USD)?'].value_counts(sort=True).plot(kind='bar', figsize=(10, 6))\n",
    "plt.tight_layout()\n",
    "plt.show()"
   ]
  },
  {
   "cell_type": "code",
   "execution_count": 16,
   "metadata": {},
   "outputs": [
    {
     "data": {
      "image/png": "[encoded data removed]",
      "text/plain": [
       "<Figure size 720x432 with 1 Axes>"
      ]
     },
     "metadata": {
      "needs_background": "light"
     },
     "output_type": "display_data"
    }
   ],
   "source": [
    "df_2019['CompensationRange'].value_counts(sort=True).plot(kind='bar', figsize=(10, 6))\n",
    "plt.tight_layout()\n",
    "plt.show()"
   ]
  },
  {
   "cell_type": "code",
   "execution_count": null,
   "metadata": {},
   "outputs": [],
   "source": []
  },
  {
   "cell_type": "code",
   "execution_count": 17,
   "metadata": {},
   "outputs": [
    {
     "data": {
      "image/png": "[encoded data removed]",
      "text/plain": [
       "<Figure size 720x432 with 1 Axes>"
      ]
     },
     "metadata": {
      "needs_background": "light"
     },
     "output_type": "display_data"
    }
   ],
   "source": [
    "df_2018['CompensationRange'].value_counts(sort=True).plot(kind='bar', figsize=(10, 6))\n",
    "plt.tight_layout()\n",
    "plt.show()"
   ]
  },
  {
   "cell_type": "code",
   "execution_count": 18,
   "metadata": {},
   "outputs": [
    {
     "data": {
      "image/png": "[encoded data removed]",
      "text/plain": [
       "<Figure size 720x432 with 1 Axes>"
      ]
     },
     "metadata": {
      "needs_background": "light"
     },
     "output_type": "display_data"
    }
   ],
   "source": [
    "df_2018['What is your current yearly compensation (approximate $USD)?'].value_counts(sort=True).plot(kind='bar', figsize=(10, 6))\n",
    "plt.tight_layout()\n",
    "plt.show()"
   ]
  },
  {
   "cell_type": "code",
   "execution_count": null,
   "metadata": {},
   "outputs": [],
   "source": []
  },
  {
   "cell_type": "markdown",
   "metadata": {},
   "source": [
    "## Number of respondents"
   ]
  },
  {
   "cell_type": "code",
   "execution_count": 20,
   "metadata": {},
   "outputs": [],
   "source": [
    "data = {'year':['2018','2019'],\n",
    "        'number of respondents':[len(df_2018), len(df_2019)]}\n",
    "\n",
    "df_respondents = pd.DataFrame(data=data)"
   ]
  },
  {
   "cell_type": "code",
   "execution_count": 21,
   "metadata": {},
   "outputs": [
    {
     "data": {
      "text/html": [
       "<div>\n",
       "<style scoped>\n",
       "    .dataframe tbody tr th:only-of-type {\n",
       "        vertical-align: middle;\n",
       "    }\n",
       "\n",
       "    .dataframe tbody tr th {\n",
       "        vertical-align: top;\n",
       "    }\n",
       "\n",
       "    .dataframe thead th {\n",
       "        text-align: right;\n",
       "    }\n",
       "</style>\n",
       "<table border=\"1\" class=\"dataframe\">\n",
       "  <thead>\n",
       "    <tr style=\"text-align: right;\">\n",
       "      <th></th>\n",
       "      <th>year</th>\n",
       "      <th>number of respondents</th>\n",
       "    </tr>\n",
       "  </thead>\n",
       "  <tbody>\n",
       "    <tr>\n",
       "      <th>0</th>\n",
       "      <td>2018</td>\n",
       "      <td>23859</td>\n",
       "    </tr>\n",
       "    <tr>\n",
       "      <th>1</th>\n",
       "      <td>2019</td>\n",
       "      <td>19717</td>\n",
       "    </tr>\n",
       "  </tbody>\n",
       "</table>\n",
       "</div>"
      ],
      "text/plain": [
       "   year  number of respondents\n",
       "0  2018                  23859\n",
       "1  2019                  19717"
      ]
     },
     "execution_count": 21,
     "metadata": {},
     "output_type": "execute_result"
    }
   ],
   "source": [
    "df_respondents.head()"
   ]
  },
  {
   "cell_type": "code",
   "execution_count": 23,
   "metadata": {},
   "outputs": [
    {
     "data": {
      "image/png": "[encoded data removed]",
      "text/plain": [
       "<Figure size 432x288 with 1 Axes>"
      ]
     },
     "metadata": {
      "needs_background": "light"
     },
     "output_type": "display_data"
    }
   ],
   "source": [
    "sns.barplot(x='year', y='number of respondents', ci=None, data=df_respondents)\n",
    "plt.title('Number of respondents from 2018 - 2019')\n",
    "plt.show()"
   ]
  },
  {
   "cell_type": "markdown",
   "metadata": {},
   "source": [
    "## Gender"
   ]
  },
  {
   "cell_type": "code",
   "execution_count": 24,
   "metadata": {},
   "outputs": [],
   "source": [
    "gender_2018 = df_2018['What is your gender? - Selected Choice'].value_counts(sort=True)\n",
    "gender_2019 = df_2019['What is your gender? - Selected Choice'].value_counts(sort=True)"
   ]
  },
  {
   "cell_type": "code",
   "execution_count": 26,
   "metadata": {},
   "outputs": [
    {
     "data": {
      "text/plain": [
       "Male                       19430\n",
       "Female                      4010\n",
       "Prefer not to say            340\n",
       "Prefer to self-describe       79\n",
       "Name: What is your gender? - Selected Choice, dtype: int64"
      ]
     },
     "execution_count": 26,
     "metadata": {},
     "output_type": "execute_result"
    }
   ],
   "source": [
    "gender_2018.head()"
   ]
  },
  {
   "cell_type": "code",
   "execution_count": 27,
   "metadata": {},
   "outputs": [
    {
     "data": {
      "text/plain": [
       "Male                       16138\n",
       "Female                      3212\n",
       "Prefer not to say            318\n",
       "Prefer to self-describe       49\n",
       "Name: What is your gender? - Selected Choice, dtype: int64"
      ]
     },
     "execution_count": 27,
     "metadata": {},
     "output_type": "execute_result"
    }
   ],
   "source": [
    "gender_2019.head()"
   ]
  },
  {
   "cell_type": "code",
   "execution_count": 29,
   "metadata": {},
   "outputs": [],
   "source": [
    "data = {'year':['2018','2019'],\n",
    "        'male':[gender_2018[0], gender_2019[0]],\n",
    "        'female':[gender_2018[1], gender_2019[1]],\n",
    "        'private_selfdescribe': [gender_2018[2]+gender_2018[3], \n",
    "                                 gender_2019[2]+gender_2019[3]]}\n",
    "\n",
    "df_gender = pd.DataFrame(data=data)"
   ]
  },
  {
   "cell_type": "code",
   "execution_count": 30,
   "metadata": {},
   "outputs": [
    {
     "data": {
      "text/html": [
       "<div>\n",
       "<style scoped>\n",
       "    .dataframe tbody tr th:only-of-type {\n",
       "        vertical-align: middle;\n",
       "    }\n",
       "\n",
       "    .dataframe tbody tr th {\n",
       "        vertical-align: top;\n",
       "    }\n",
       "\n",
       "    .dataframe thead th {\n",
       "        text-align: right;\n",
       "    }\n",
       "</style>\n",
       "<table border=\"1\" class=\"dataframe\">\n",
       "  <thead>\n",
       "    <tr style=\"text-align: right;\">\n",
       "      <th></th>\n",
       "      <th>year</th>\n",
       "      <th>male</th>\n",
       "      <th>female</th>\n",
       "      <th>private_selfdescribe</th>\n",
       "    </tr>\n",
       "  </thead>\n",
       "  <tbody>\n",
       "    <tr>\n",
       "      <th>0</th>\n",
       "      <td>2018</td>\n",
       "      <td>19430</td>\n",
       "      <td>4010</td>\n",
       "      <td>419</td>\n",
       "    </tr>\n",
       "    <tr>\n",
       "      <th>1</th>\n",
       "      <td>2019</td>\n",
       "      <td>16138</td>\n",
       "      <td>3212</td>\n",
       "      <td>367</td>\n",
       "    </tr>\n",
       "  </tbody>\n",
       "</table>\n",
       "</div>"
      ],
      "text/plain": [
       "   year   male  female  private_selfdescribe\n",
       "0  2018  19430    4010                   419\n",
       "1  2019  16138    3212                   367"
      ]
     },
     "execution_count": 30,
     "metadata": {},
     "output_type": "execute_result"
    }
   ],
   "source": [
    "df_gender.head()"
   ]
  },
  {
   "cell_type": "code",
   "execution_count": 31,
   "metadata": {},
   "outputs": [
    {
     "name": "stdout",
     "output_type": "stream",
     "text": [
      "0    4.845387\n",
      "1    5.024284\n",
      "dtype: float64\n"
     ]
    }
   ],
   "source": [
    "print(df_gender.male/df_gender.female)"
   ]
  },
  {
   "cell_type": "code",
   "execution_count": 32,
   "metadata": {},
   "outputs": [
    {
     "data": {
      "image/png": "[encoded data removed]",
      "text/plain": [
       "<Figure size 432x288 with 1 Axes>"
      ]
     },
     "metadata": {
      "needs_background": "light"
     },
     "output_type": "display_data"
    }
   ],
   "source": [
    "p1 = plt.bar(df_gender.year, df_gender.male)\n",
    "p2 = plt.bar(df_gender.year, df_gender.female, bottom=df_gender.male)\n",
    "\n",
    "plt.ylabel('Count')\n",
    "plt.title('Respondents by year and gender')\n",
    "plt.legend((p1[0], p2[0]), ('Male', 'Female'))\n",
    "\n",
    "plt.show()"
   ]
  },
  {
   "cell_type": "code",
   "execution_count": 230,
   "metadata": {},
   "outputs": [
    {
     "name": "stdout",
     "output_type": "stream",
     "text": [
      "<pandas.core.groupby.generic.SeriesGroupBy object at 0x7f46cfab73d0>\n"
     ]
    }
   ],
   "source": [
    "group = df_mc_2018['What is your gender? - Selected Choice'].groupby(df_mc_2018['CompensationRange'])\n",
    "# average_salary = group.mean().sort_values(ascending=False)\n"
   ]
  },
  {
   "cell_type": "code",
   "execution_count": null,
   "metadata": {},
   "outputs": [],
   "source": []
  },
  {
   "cell_type": "code",
   "execution_count": 231,
   "metadata": {},
   "outputs": [
    {
     "ename": "ValueError",
     "evalue": "Neither the `x` nor `y` variable appears to be numeric.",
     "output_type": "error",
     "traceback": [
      "\u001b[0;31m---------------------------------------------------------------------------\u001b[0m",
      "\u001b[0;31mValueError\u001b[0m                                Traceback (most recent call last)",
      "\u001b[0;32m<ipython-input-231-7b31347e684f>\u001b[0m in \u001b[0;36m<module>\u001b[0;34m\u001b[0m\n\u001b[0;32m----> 1\u001b[0;31m \u001b[0msns\u001b[0m\u001b[0;34m.\u001b[0m\u001b[0mcatplot\u001b[0m\u001b[0;34m(\u001b[0m\u001b[0mx\u001b[0m\u001b[0;34m=\u001b[0m\u001b[0;34m'What is your gender? - Selected Choice'\u001b[0m\u001b[0;34m,\u001b[0m \u001b[0my\u001b[0m\u001b[0;34m=\u001b[0m\u001b[0;34m'CompensationRange'\u001b[0m\u001b[0;34m,\u001b[0m \u001b[0mhue\u001b[0m\u001b[0;34m=\u001b[0m\u001b[0;34m'CompensationRange'\u001b[0m\u001b[0;34m,\u001b[0m \u001b[0mci\u001b[0m\u001b[0;34m=\u001b[0m\u001b[0;32mNone\u001b[0m\u001b[0;34m,\u001b[0m \u001b[0mkind\u001b[0m\u001b[0;34m=\u001b[0m\u001b[0;34m'bar'\u001b[0m\u001b[0;34m,\u001b[0m \u001b[0mdata\u001b[0m\u001b[0;34m=\u001b[0m\u001b[0mdf_mc_2018\u001b[0m\u001b[0;34m)\u001b[0m\u001b[0;34m;\u001b[0m\u001b[0;34m\u001b[0m\u001b[0;34m\u001b[0m\u001b[0m\n\u001b[0m\u001b[1;32m      2\u001b[0m \u001b[0mplt\u001b[0m\u001b[0;34m.\u001b[0m\u001b[0mtitle\u001b[0m\u001b[0;34m(\u001b[0m\u001b[0;34m'compensation by gender'\u001b[0m\u001b[0;34m)\u001b[0m\u001b[0;34m\u001b[0m\u001b[0;34m\u001b[0m\u001b[0m\n\u001b[1;32m      3\u001b[0m \u001b[0mplt\u001b[0m\u001b[0;34m.\u001b[0m\u001b[0mshow\u001b[0m\u001b[0;34m(\u001b[0m\u001b[0;34m)\u001b[0m\u001b[0;34m\u001b[0m\u001b[0;34m\u001b[0m\u001b[0m\n",
      "\u001b[0;32m~/anaconda3/lib/python3.7/site-packages/seaborn/categorical.py\u001b[0m in \u001b[0;36mcatplot\u001b[0;34m(x, y, hue, data, row, col, col_wrap, estimator, ci, n_boot, units, seed, order, hue_order, row_order, col_order, kind, height, aspect, orient, color, palette, legend, legend_out, sharex, sharey, margin_titles, facet_kws, **kwargs)\u001b[0m\n\u001b[1;32m   3721\u001b[0m     \u001b[0;31m# facets to ensure representation of all data in the final plot\u001b[0m\u001b[0;34m\u001b[0m\u001b[0;34m\u001b[0m\u001b[0;34m\u001b[0m\u001b[0m\n\u001b[1;32m   3722\u001b[0m     \u001b[0mp\u001b[0m \u001b[0;34m=\u001b[0m \u001b[0m_CategoricalPlotter\u001b[0m\u001b[0;34m(\u001b[0m\u001b[0;34m)\u001b[0m\u001b[0;34m\u001b[0m\u001b[0;34m\u001b[0m\u001b[0m\n\u001b[0;32m-> 3723\u001b[0;31m     \u001b[0mp\u001b[0m\u001b[0;34m.\u001b[0m\u001b[0mestablish_variables\u001b[0m\u001b[0;34m(\u001b[0m\u001b[0mx_\u001b[0m\u001b[0;34m,\u001b[0m \u001b[0my_\u001b[0m\u001b[0;34m,\u001b[0m \u001b[0mhue\u001b[0m\u001b[0;34m,\u001b[0m \u001b[0mdata\u001b[0m\u001b[0;34m,\u001b[0m \u001b[0morient\u001b[0m\u001b[0;34m,\u001b[0m \u001b[0morder\u001b[0m\u001b[0;34m,\u001b[0m \u001b[0mhue_order\u001b[0m\u001b[0;34m)\u001b[0m\u001b[0;34m\u001b[0m\u001b[0;34m\u001b[0m\u001b[0m\n\u001b[0m\u001b[1;32m   3724\u001b[0m     \u001b[0morder\u001b[0m \u001b[0;34m=\u001b[0m \u001b[0mp\u001b[0m\u001b[0;34m.\u001b[0m\u001b[0mgroup_names\u001b[0m\u001b[0;34m\u001b[0m\u001b[0;34m\u001b[0m\u001b[0m\n\u001b[1;32m   3725\u001b[0m     \u001b[0mhue_order\u001b[0m \u001b[0;34m=\u001b[0m \u001b[0mp\u001b[0m\u001b[0;34m.\u001b[0m\u001b[0mhue_names\u001b[0m\u001b[0;34m\u001b[0m\u001b[0;34m\u001b[0m\u001b[0m\n",
      "\u001b[0;32m~/anaconda3/lib/python3.7/site-packages/seaborn/categorical.py\u001b[0m in \u001b[0;36mestablish_variables\u001b[0;34m(self, x, y, hue, data, orient, order, hue_order, units)\u001b[0m\n\u001b[1;32m    153\u001b[0m \u001b[0;34m\u001b[0m\u001b[0m\n\u001b[1;32m    154\u001b[0m             \u001b[0;31m# Figure out the plotting orientation\u001b[0m\u001b[0;34m\u001b[0m\u001b[0;34m\u001b[0m\u001b[0;34m\u001b[0m\u001b[0m\n\u001b[0;32m--> 155\u001b[0;31m             \u001b[0morient\u001b[0m \u001b[0;34m=\u001b[0m \u001b[0mself\u001b[0m\u001b[0;34m.\u001b[0m\u001b[0minfer_orient\u001b[0m\u001b[0;34m(\u001b[0m\u001b[0mx\u001b[0m\u001b[0;34m,\u001b[0m \u001b[0my\u001b[0m\u001b[0;34m,\u001b[0m \u001b[0morient\u001b[0m\u001b[0;34m)\u001b[0m\u001b[0;34m\u001b[0m\u001b[0;34m\u001b[0m\u001b[0m\n\u001b[0m\u001b[1;32m    156\u001b[0m \u001b[0;34m\u001b[0m\u001b[0m\n\u001b[1;32m    157\u001b[0m             \u001b[0;31m# Option 2a:\u001b[0m\u001b[0;34m\u001b[0m\u001b[0;34m\u001b[0m\u001b[0;34m\u001b[0m\u001b[0m\n",
      "\u001b[0;32m~/anaconda3/lib/python3.7/site-packages/seaborn/categorical.py\u001b[0m in \u001b[0;36minfer_orient\u001b[0;34m(self, x, y, orient)\u001b[0m\n\u001b[1;32m    352\u001b[0m         \u001b[0;32melif\u001b[0m \u001b[0mis_not_numeric\u001b[0m\u001b[0;34m(\u001b[0m\u001b[0my\u001b[0m\u001b[0;34m)\u001b[0m\u001b[0;34m:\u001b[0m\u001b[0;34m\u001b[0m\u001b[0;34m\u001b[0m\u001b[0m\n\u001b[1;32m    353\u001b[0m             \u001b[0;32mif\u001b[0m \u001b[0mis_not_numeric\u001b[0m\u001b[0;34m(\u001b[0m\u001b[0mx\u001b[0m\u001b[0;34m)\u001b[0m\u001b[0;34m:\u001b[0m\u001b[0;34m\u001b[0m\u001b[0;34m\u001b[0m\u001b[0m\n\u001b[0;32m--> 354\u001b[0;31m                 \u001b[0;32mraise\u001b[0m \u001b[0mValueError\u001b[0m\u001b[0;34m(\u001b[0m\u001b[0mno_numeric\u001b[0m\u001b[0;34m)\u001b[0m\u001b[0;34m\u001b[0m\u001b[0;34m\u001b[0m\u001b[0m\n\u001b[0m\u001b[1;32m    355\u001b[0m             \u001b[0;32melse\u001b[0m\u001b[0;34m:\u001b[0m\u001b[0;34m\u001b[0m\u001b[0;34m\u001b[0m\u001b[0m\n\u001b[1;32m    356\u001b[0m                 \u001b[0;32mreturn\u001b[0m \u001b[0;34m\"h\"\u001b[0m\u001b[0;34m\u001b[0m\u001b[0;34m\u001b[0m\u001b[0m\n",
      "\u001b[0;31mValueError\u001b[0m: Neither the `x` nor `y` variable appears to be numeric."
     ]
    }
   ],
   "source": []
  },
  {
   "cell_type": "code",
   "execution_count": null,
   "metadata": {},
   "outputs": [],
   "source": []
  },
  {
   "cell_type": "code",
   "execution_count": null,
   "metadata": {},
   "outputs": [],
   "source": []
  },
  {
   "cell_type": "code",
   "execution_count": null,
   "metadata": {},
   "outputs": [],
   "source": []
  },
  {
   "cell_type": "code",
   "execution_count": null,
   "metadata": {},
   "outputs": [],
   "source": []
  },
  {
   "cell_type": "markdown",
   "metadata": {},
   "source": [
    "## Country"
   ]
  },
  {
   "cell_type": "code",
   "execution_count": 33,
   "metadata": {},
   "outputs": [],
   "source": [
    "country_2018 = df_2018['In which country do you currently reside?'].value_counts(sort=True)[:10]\n",
    "country_2019 = df_2019['In which country do you currently reside?'].value_counts(sort=True)[:10]"
   ]
  },
  {
   "cell_type": "code",
   "execution_count": 35,
   "metadata": {},
   "outputs": [
    {
     "data": {
      "image/png": "[encoded data removed]",
      "text/plain": [
       "<Figure size 720x432 with 1 Axes>"
      ]
     },
     "metadata": {
      "needs_background": "light"
     },
     "output_type": "display_data"
    }
   ],
   "source": [
    "fig, ax = plt.subplots(figsize = (10,6))\n",
    "bar1 = ax.bar(country_2018.index, country_2018)\n",
    "plt.xticks(rotation=90)\n",
    "plt.tight_layout()\n",
    "plt.show()"
   ]
  },
  {
   "cell_type": "code",
   "execution_count": 36,
   "metadata": {},
   "outputs": [
    {
     "data": {
      "image/png": "[encoded data removed]",
      "text/plain": [
       "<Figure size 720x432 with 1 Axes>"
      ]
     },
     "metadata": {
      "needs_background": "light"
     },
     "output_type": "display_data"
    }
   ],
   "source": [
    "fig, ax = plt.subplots(figsize = (10,6))\n",
    "bar1 = ax.bar(country_2018.index, country_2018)\n",
    "plt.xticks(rotation=90)\n",
    "plt.tight_layout()\n",
    "plt.show()"
   ]
  },
  {
   "cell_type": "code",
   "execution_count": 37,
   "metadata": {},
   "outputs": [
    {
     "data": {
      "image/png": "[encoded data removed]",
      "text/plain": [
       "<Figure size 720x432 with 1 Axes>"
      ]
     },
     "metadata": {
      "needs_background": "light"
     },
     "output_type": "display_data"
    }
   ],
   "source": [
    "fig, ax = plt.subplots(figsize = (10,6))\n",
    "bar1 = ax.bar(country_2019.index, country_2019)\n",
    "plt.xticks(rotation=90)\n",
    "plt.tight_layout()\n",
    "plt.show()"
   ]
  },
  {
   "cell_type": "code",
   "execution_count": null,
   "metadata": {},
   "outputs": [],
   "source": []
  },
  {
   "cell_type": "code",
   "execution_count": null,
   "metadata": {},
   "outputs": [],
   "source": []
  },
  {
   "cell_type": "markdown",
   "metadata": {},
   "source": [
    "## Age"
   ]
  },
  {
   "cell_type": "code",
   "execution_count": 38,
   "metadata": {},
   "outputs": [
    {
     "data": {
      "image/png": "[encoded data removed]",
      "text/plain": [
       "<Figure size 720x432 with 1 Axes>"
      ]
     },
     "metadata": {
      "needs_background": "light"
     },
     "output_type": "display_data"
    }
   ],
   "source": [
    "df_2018['What is your age (# years)?'].value_counts(sort=True).plot(kind='bar', figsize=(10, 6))\n",
    "plt.tight_layout()\n",
    "plt.show()"
   ]
  },
  {
   "cell_type": "code",
   "execution_count": 39,
   "metadata": {},
   "outputs": [
    {
     "data": {
      "image/png": "[encoded data removed]",
      "text/plain": [
       "<Figure size 720x432 with 1 Axes>"
      ]
     },
     "metadata": {
      "needs_background": "light"
     },
     "output_type": "display_data"
    }
   ],
   "source": [
    "df_2019['What is your age (# years)?'].value_counts(sort=True).plot(kind='bar', figsize=(10, 6))\n",
    "plt.tight_layout()\n",
    "plt.show()"
   ]
  },
  {
   "cell_type": "code",
   "execution_count": null,
   "metadata": {},
   "outputs": [],
   "source": []
  },
  {
   "cell_type": "code",
   "execution_count": null,
   "metadata": {},
   "outputs": [],
   "source": []
  },
  {
   "cell_type": "markdown",
   "metadata": {},
   "source": [
    "## Years using ML"
   ]
  },
  {
   "cell_type": "code",
   "execution_count": 40,
   "metadata": {},
   "outputs": [
    {
     "data": {
      "image/png": "[encoded data removed]",
      "text/plain": [
       "<Figure size 720x432 with 1 Axes>"
      ]
     },
     "metadata": {
      "needs_background": "light"
     },
     "output_type": "display_data"
    }
   ],
   "source": [
    "df_2018['For how many years have you used machine learning methods (at work or in school)?'].value_counts(sort=True).plot(kind='bar', figsize=(10, 6))\n",
    "plt.tight_layout()\n",
    "plt.show()"
   ]
  },
  {
   "cell_type": "code",
   "execution_count": 41,
   "metadata": {},
   "outputs": [
    {
     "data": {
      "image/png": "[encoded data removed]",
      "text/plain": [
       "<Figure size 720x432 with 1 Axes>"
      ]
     },
     "metadata": {
      "needs_background": "light"
     },
     "output_type": "display_data"
    }
   ],
   "source": [
    "df_2019['For how many years have you used machine learning methods?'].value_counts(sort=True).plot(kind='bar', figsize=(10, 6))\n",
    "plt.tight_layout()\n",
    "plt.show()"
   ]
  },
  {
   "cell_type": "code",
   "execution_count": null,
   "metadata": {},
   "outputs": [],
   "source": []
  },
  {
   "cell_type": "code",
   "execution_count": null,
   "metadata": {},
   "outputs": [],
   "source": []
  },
  {
   "cell_type": "code",
   "execution_count": null,
   "metadata": {},
   "outputs": [],
   "source": []
  },
  {
   "cell_type": "markdown",
   "metadata": {},
   "source": [
    "## Compensation"
   ]
  },
  {
   "cell_type": "code",
   "execution_count": 42,
   "metadata": {},
   "outputs": [
    {
     "data": {
      "image/png": "[encoded data removed]",
      "text/plain": [
       "<Figure size 720x432 with 1 Axes>"
      ]
     },
     "metadata": {
      "needs_background": "light"
     },
     "output_type": "display_data"
    }
   ],
   "source": [
    "df_2018['What is your current yearly compensation (approximate $USD)?'].value_counts(sort=True).plot(kind='bar', figsize=(10, 6))\n",
    "plt.tight_layout()\n",
    "plt.show()"
   ]
  },
  {
   "cell_type": "code",
   "execution_count": 43,
   "metadata": {
    "scrolled": false
   },
   "outputs": [
    {
     "data": {
      "image/png": "[encoded data removed]",
      "text/plain": [
       "<Figure size 720x432 with 1 Axes>"
      ]
     },
     "metadata": {
      "needs_background": "light"
     },
     "output_type": "display_data"
    }
   ],
   "source": [
    "df_2019['What is your current yearly compensation (approximate $USD)?'].value_counts(sort=True).plot(kind='bar', figsize=(10, 6))\n",
    "plt.tight_layout()\n",
    "plt.show()"
   ]
  },
  {
   "cell_type": "code",
   "execution_count": 144,
   "metadata": {},
   "outputs": [
    {
     "data": {
      "text/plain": [
       "<bound method IndexOpsMixin.value_counts of 1          30,000-39,999\n",
       "2            5,000-7,499\n",
       "3                    NaN\n",
       "4        250,000-299,999\n",
       "5            4,000-4,999\n",
       "              ...       \n",
       "19713                NaN\n",
       "19714             $0-999\n",
       "19715                NaN\n",
       "19716        1,000-1,999\n",
       "19717      60,000-69,999\n",
       "Name: What is your current yearly compensation (approximate $USD)?, Length: 19717, dtype: object>"
      ]
     },
     "execution_count": 144,
     "metadata": {},
     "output_type": "execute_result"
    }
   ],
   "source": [
    "df_mc_2019['What is your current yearly compensation (approximate $USD)?'].value_counts"
   ]
  },
  {
   "cell_type": "code",
   "execution_count": null,
   "metadata": {},
   "outputs": [],
   "source": []
  },
  {
   "cell_type": "code",
   "execution_count": null,
   "metadata": {},
   "outputs": [],
   "source": []
  },
  {
   "cell_type": "markdown",
   "metadata": {},
   "source": [
    "What does the data show that separates the highest paid people?   \n",
    "<100K   \n",
    "100K   \n",
    "200K  \n",
    "300K   \n",
    "400K   \n",
    "500K+   \n",
    "\n",
    "Look at:  \n",
    "age   \n",
    "gender  \n",
    "country   \n",
    "school/education    \n",
    "experience   \n",
    "title of current role   \n",
    "tools   \n",
    "programming languages   \n",
    "viz tools   \n",
    "databases   \n",
    "cloud services   \n"
   ]
  },
  {
   "cell_type": "code",
   "execution_count": null,
   "metadata": {},
   "outputs": [],
   "source": []
  },
  {
   "cell_type": "code",
   "execution_count": null,
   "metadata": {},
   "outputs": [],
   "source": []
  },
  {
   "cell_type": "code",
   "execution_count": null,
   "metadata": {},
   "outputs": [],
   "source": []
  },
  {
   "cell_type": "code",
   "execution_count": null,
   "metadata": {},
   "outputs": [],
   "source": []
  },
  {
   "cell_type": "markdown",
   "metadata": {},
   "source": [
    "## ML tools"
   ]
  },
  {
   "cell_type": "code",
   "execution_count": null,
   "metadata": {},
   "outputs": [],
   "source": [
    "Which categories of ML tools do you use on a regular basis? (Select all that apply) - Selected Choice"
   ]
  },
  {
   "cell_type": "code",
   "execution_count": null,
   "metadata": {},
   "outputs": [],
   "source": []
  },
  {
   "cell_type": "code",
   "execution_count": null,
   "metadata": {},
   "outputs": [],
   "source": []
  },
  {
   "cell_type": "code",
   "execution_count": null,
   "metadata": {},
   "outputs": [],
   "source": []
  },
  {
   "cell_type": "code",
   "execution_count": null,
   "metadata": {},
   "outputs": [],
   "source": []
  },
  {
   "cell_type": "code",
   "execution_count": null,
   "metadata": {},
   "outputs": [],
   "source": []
  },
  {
   "cell_type": "code",
   "execution_count": null,
   "metadata": {},
   "outputs": [],
   "source": []
  },
  {
   "cell_type": "code",
   "execution_count": null,
   "metadata": {},
   "outputs": [],
   "source": []
  },
  {
   "cell_type": "code",
   "execution_count": null,
   "metadata": {},
   "outputs": [],
   "source": []
  },
  {
   "cell_type": "code",
   "execution_count": null,
   "metadata": {},
   "outputs": [],
   "source": []
  },
  {
   "cell_type": "code",
   "execution_count": null,
   "metadata": {},
   "outputs": [],
   "source": []
  },
  {
   "cell_type": "code",
   "execution_count": null,
   "metadata": {},
   "outputs": [],
   "source": []
  },
  {
   "cell_type": "code",
   "execution_count": null,
   "metadata": {},
   "outputs": [],
   "source": []
  },
  {
   "cell_type": "code",
   "execution_count": null,
   "metadata": {},
   "outputs": [],
   "source": []
  },
  {
   "cell_type": "code",
   "execution_count": 142,
   "metadata": {},
   "outputs": [
    {
     "name": "stdout",
     "output_type": "stream",
     "text": [
      "0: Duration (in seconds)\n",
      "\n",
      "1: What is your gender? - Selected Choice\n",
      "\n",
      "2: What is your gender? - Prefer to self-describe - Text\n",
      "\n",
      "3: What is your age (# years)?\n",
      "\n",
      "4: In which country do you currently reside?\n",
      "\n",
      "5: What is the highest level of formal education that you have attained or plan to attain within the next 2 years?\n",
      "\n",
      "6: Which best describes your undergraduate major? - Selected Choice\n",
      "\n",
      "7: Select the title most similar to your current role (or most recent title if retired): - Selected Choice\n",
      "\n",
      "8: Select the title most similar to your current role (or most recent title if retired): - Other - Text\n",
      "\n",
      "9: In what industry is your current employer/contract (or your most recent employer if retired)? - Selected Choice\n",
      "\n",
      "10: In what industry is your current employer/contract (or your most recent employer if retired)? - Other - Text\n",
      "\n",
      "11: How many years of experience do you have in your current role?\n",
      "\n",
      "12: What is your current yearly compensation (approximate $USD)?\n",
      "\n",
      "13: Does your current employer incorporate machine learning methods into their business?\n",
      "\n",
      "14: Select any activities that make up an important part of your role at work: (Select all that apply) - Selected Choice - Analyze and understand data to influence product or business decisions\n",
      "\n",
      "15: Select any activities that make up an important part of your role at work: (Select all that apply) - Selected Choice - Build and/or run a machine learning service that operationally improves my product or workflows\n",
      "\n",
      "16: Select any activities that make up an important part of your role at work: (Select all that apply) - Selected Choice - Build and/or run the data infrastructure that my business uses for storing, analyzing, and operationalizing data\n",
      "\n",
      "17: Select any activities that make up an important part of your role at work: (Select all that apply) - Selected Choice - Build prototypes to explore applying machine learning to new areas\n",
      "\n",
      "18: Select any activities that make up an important part of your role at work: (Select all that apply) - Selected Choice - Do research that advances the state of the art of machine learning\n",
      "\n",
      "19: Select any activities that make up an important part of your role at work: (Select all that apply) - Selected Choice - None of these activities are an important part of my role at work\n",
      "\n",
      "20: Select any activities that make up an important part of your role at work: (Select all that apply) - Selected Choice - Other\n",
      "\n",
      "21: Select any activities that make up an important part of your role at work: (Select all that apply) - Other - Text\n",
      "\n",
      "22: What is the primary tool that you use at work or school to analyze data? (include text response) - Selected Choice\n",
      "\n",
      "23: What is the primary tool that you use at work or school to analyze data? (include text response) - Basic statistical software (Microsoft Excel, Google Sheets, etc.) - Text\n",
      "\n",
      "24: What is the primary tool that you use at work or school to analyze data? (include text response) - Advanced statistical software (SPSS, SAS, etc.) - Text\n",
      "\n",
      "25: What is the primary tool that you use at work or school to analyze data? (include text response) - Business intelligence software (Salesforce, Tableau, Spotfire, etc.) - Text\n",
      "\n",
      "26: What is the primary tool that you use at work or school to analyze data? (include text response) - Local or hosted development environments (RStudio, JupyterLab, etc.) - Text\n",
      "\n",
      "27: What is the primary tool that you use at work or school to analyze data? (include text response) - Cloud-based data software & APIs (AWS, GCP, Azure, etc.) - Text\n",
      "\n",
      "28: What is the primary tool that you use at work or school to analyze data? (include text response) - Other - Text\n",
      "\n",
      "29: Which of the following integrated development environments (IDE's) have you used at work or school in the last 5 years? (Select all that apply) - Selected Choice - Jupyter/IPython\n",
      "\n",
      "30: Which of the following integrated development environments (IDE's) have you used at work or school in the last 5 years? (Select all that apply) - Selected Choice - RStudio\n",
      "\n",
      "31: Which of the following integrated development environments (IDE's) have you used at work or school in the last 5 years? (Select all that apply) - Selected Choice - PyCharm\n",
      "\n",
      "32: Which of the following integrated development environments (IDE's) have you used at work or school in the last 5 years? (Select all that apply) - Selected Choice - Visual Studio Code\n",
      "\n",
      "33: Which of the following integrated development environments (IDE's) have you used at work or school in the last 5 years? (Select all that apply) - Selected Choice - nteract\n",
      "\n",
      "34: Which of the following integrated development environments (IDE's) have you used at work or school in the last 5 years? (Select all that apply) - Selected Choice - Atom\n",
      "\n",
      "35: Which of the following integrated development environments (IDE's) have you used at work or school in the last 5 years? (Select all that apply) - Selected Choice - MATLAB\n",
      "\n",
      "36: Which of the following integrated development environments (IDE's) have you used at work or school in the last 5 years? (Select all that apply) - Selected Choice - Visual Studio\n",
      "\n",
      "37: Which of the following integrated development environments (IDE's) have you used at work or school in the last 5 years? (Select all that apply) - Selected Choice - Notepad++\n",
      "\n",
      "38: Which of the following integrated development environments (IDE's) have you used at work or school in the last 5 years? (Select all that apply) - Selected Choice - Sublime Text\n",
      "\n",
      "39: Which of the following integrated development environments (IDE's) have you used at work or school in the last 5 years? (Select all that apply) - Selected Choice - Vim\n",
      "\n",
      "40: Which of the following integrated development environments (IDE's) have you used at work or school in the last 5 years? (Select all that apply) - Selected Choice - IntelliJ\n",
      "\n",
      "41: Which of the following integrated development environments (IDE's) have you used at work or school in the last 5 years? (Select all that apply) - Selected Choice - Spyder\n",
      "\n",
      "42: Which of the following integrated development environments (IDE's) have you used at work or school in the last 5 years? (Select all that apply) - Selected Choice - None\n",
      "\n",
      "43: Which of the following integrated development environments (IDE's) have you used at work or school in the last 5 years? (Select all that apply) - Selected Choice - Other\n",
      "\n",
      "44: Which of the following integrated development environments (IDE's) have you used at work or school in the last 5 years? (Select all that apply) - Other - Text\n",
      "\n",
      "45: Which of the following hosted notebooks have you used at work or school in the last 5 years? (Select all that apply) - Selected Choice - Kaggle Kernels\n",
      "\n",
      "46: Which of the following hosted notebooks have you used at work or school in the last 5 years? (Select all that apply) - Selected Choice - Google Colab\n",
      "\n",
      "47: Which of the following hosted notebooks have you used at work or school in the last 5 years? (Select all that apply) - Selected Choice - Azure Notebook\n",
      "\n",
      "48: Which of the following hosted notebooks have you used at work or school in the last 5 years? (Select all that apply) - Selected Choice - Domino Datalab\n",
      "\n",
      "49: Which of the following hosted notebooks have you used at work or school in the last 5 years? (Select all that apply) - Selected Choice - Google Cloud Datalab\n",
      "\n",
      "50: Which of the following hosted notebooks have you used at work or school in the last 5 years? (Select all that apply) - Selected Choice - Paperspace\n",
      "\n",
      "51: Which of the following hosted notebooks have you used at work or school in the last 5 years? (Select all that apply) - Selected Choice - Floydhub\n",
      "\n",
      "52: Which of the following hosted notebooks have you used at work or school in the last 5 years? (Select all that apply) - Selected Choice - Crestle\n",
      "\n",
      "53: Which of the following hosted notebooks have you used at work or school in the last 5 years? (Select all that apply) - Selected Choice - JupyterHub/Binder\n",
      "\n",
      "54: Which of the following hosted notebooks have you used at work or school in the last 5 years? (Select all that apply) - Selected Choice - None\n",
      "\n",
      "55: Which of the following hosted notebooks have you used at work or school in the last 5 years? (Select all that apply) - Selected Choice - Other\n",
      "\n",
      "56: Which of the following hosted notebooks have you used at work or school in the last 5 years? (Select all that apply) - Other - Text\n",
      "\n",
      "57: Which of the following cloud computing services have you used at work or school in the last 5 years? (Select all that apply) - Selected Choice - Google Cloud Platform (GCP)\n",
      "\n",
      "58: Which of the following cloud computing services have you used at work or school in the last 5 years? (Select all that apply) - Selected Choice - Amazon Web Services (AWS)\n",
      "\n",
      "59: Which of the following cloud computing services have you used at work or school in the last 5 years? (Select all that apply) - Selected Choice - Microsoft Azure\n",
      "\n",
      "60: Which of the following cloud computing services have you used at work or school in the last 5 years? (Select all that apply) - Selected Choice - IBM Cloud\n",
      "\n",
      "61: Which of the following cloud computing services have you used at work or school in the last 5 years? (Select all that apply) - Selected Choice - Alibaba Cloud\n",
      "\n",
      "62: Which of the following cloud computing services have you used at work or school in the last 5 years? (Select all that apply) - Selected Choice - I have not used any cloud providers\n",
      "\n",
      "63: Which of the following cloud computing services have you used at work or school in the last 5 years? (Select all that apply) - Selected Choice - Other\n",
      "\n",
      "64: Which of the following cloud computing services have you used at work or school in the last 5 years? (Select all that apply) - Other - Text\n",
      "\n",
      "65: What programming languages do you use on a regular basis? (Select all that apply) - Selected Choice - Python\n",
      "\n",
      "66: What programming languages do you use on a regular basis? (Select all that apply) - Selected Choice - R\n",
      "\n",
      "67: What programming languages do you use on a regular basis? (Select all that apply) - Selected Choice - SQL\n",
      "\n",
      "68: What programming languages do you use on a regular basis? (Select all that apply) - Selected Choice - Bash\n",
      "\n",
      "69: What programming languages do you use on a regular basis? (Select all that apply) - Selected Choice - Java\n",
      "\n",
      "70: What programming languages do you use on a regular basis? (Select all that apply) - Selected Choice - Javascript/Typescript\n",
      "\n",
      "71: What programming languages do you use on a regular basis? (Select all that apply) - Selected Choice - Visual Basic/VBA\n",
      "\n",
      "72: What programming languages do you use on a regular basis? (Select all that apply) - Selected Choice - C/C++\n",
      "\n",
      "73: What programming languages do you use on a regular basis? (Select all that apply) - Selected Choice - MATLAB\n",
      "\n",
      "74: What programming languages do you use on a regular basis? (Select all that apply) - Selected Choice - Scala\n",
      "\n",
      "75: What programming languages do you use on a regular basis? (Select all that apply) - Selected Choice - Julia\n",
      "\n",
      "76: What programming languages do you use on a regular basis? (Select all that apply) - Selected Choice - Go\n",
      "\n",
      "77: What programming languages do you use on a regular basis? (Select all that apply) - Selected Choice - C#/.NET\n",
      "\n",
      "78: What programming languages do you use on a regular basis? (Select all that apply) - Selected Choice - PHP\n",
      "\n",
      "79: What programming languages do you use on a regular basis? (Select all that apply) - Selected Choice - Ruby\n",
      "\n",
      "80: What programming languages do you use on a regular basis? (Select all that apply) - Selected Choice - SAS/STATA\n",
      "\n",
      "81: What programming languages do you use on a regular basis? (Select all that apply) - Selected Choice - None\n",
      "\n",
      "82: What programming languages do you use on a regular basis? (Select all that apply) - Selected Choice - Other\n",
      "\n",
      "83: What programming languages do you use on a regular basis? (Select all that apply) - Other - Text\n",
      "\n",
      "84: What specific programming language do you use most often? - Selected Choice\n",
      "\n",
      "85: What specific programming language do you use most often? - Other - Text\n",
      "\n",
      "86: What programming language would you recommend an aspiring data scientist to learn first? - Selected Choice\n",
      "\n",
      "87: What programming language would you recommend an aspiring data scientist to learn first? - Other - Text\n",
      "\n",
      "88: What machine learning frameworks have you used in the past 5 years? (Select all that apply) - Selected Choice - Scikit-Learn\n",
      "\n",
      "89: What machine learning frameworks have you used in the past 5 years? (Select all that apply) - Selected Choice - TensorFlow\n",
      "\n",
      "90: What machine learning frameworks have you used in the past 5 years? (Select all that apply) - Selected Choice - Keras\n",
      "\n",
      "91: What machine learning frameworks have you used in the past 5 years? (Select all that apply) - Selected Choice - PyTorch\n",
      "\n",
      "92: What machine learning frameworks have you used in the past 5 years? (Select all that apply) - Selected Choice - Spark MLlib\n",
      "\n",
      "93: What machine learning frameworks have you used in the past 5 years? (Select all that apply) - Selected Choice - H20\n",
      "\n",
      "94: What machine learning frameworks have you used in the past 5 years? (Select all that apply) - Selected Choice - Fastai\n",
      "\n",
      "95: What machine learning frameworks have you used in the past 5 years? (Select all that apply) - Selected Choice - Mxnet\n",
      "\n",
      "96: What machine learning frameworks have you used in the past 5 years? (Select all that apply) - Selected Choice - Caret\n",
      "\n",
      "97: What machine learning frameworks have you used in the past 5 years? (Select all that apply) - Selected Choice - Xgboost\n",
      "\n",
      "98: What machine learning frameworks have you used in the past 5 years? (Select all that apply) - Selected Choice - mlr\n",
      "\n",
      "99: What machine learning frameworks have you used in the past 5 years? (Select all that apply) - Selected Choice - Prophet\n",
      "\n",
      "100: What machine learning frameworks have you used in the past 5 years? (Select all that apply) - Selected Choice - randomForest\n",
      "\n",
      "101: What machine learning frameworks have you used in the past 5 years? (Select all that apply) - Selected Choice - lightgbm\n",
      "\n",
      "102: What machine learning frameworks have you used in the past 5 years? (Select all that apply) - Selected Choice - catboost\n",
      "\n",
      "103: What machine learning frameworks have you used in the past 5 years? (Select all that apply) - Selected Choice - CNTK\n",
      "\n",
      "104: What machine learning frameworks have you used in the past 5 years? (Select all that apply) - Selected Choice - Caffe\n",
      "\n",
      "105: What machine learning frameworks have you used in the past 5 years? (Select all that apply) - Selected Choice - None\n",
      "\n",
      "106: What machine learning frameworks have you used in the past 5 years? (Select all that apply) - Selected Choice - Other\n",
      "\n",
      "107: What machine learning frameworks have you used in the past 5 years? (Select all that apply) - Other - Text\n",
      "\n",
      "108: Of the choices that you selected in the previous question, which ML library have you used the most? - Selected Choice\n",
      "\n",
      "109: Of the choices that you selected in the previous question, which ML library have you used the most? - Other - Text\n",
      "\n",
      "110: What data visualization libraries or tools have you used in the past 5 years? (Select all that apply) - Selected Choice - ggplot2\n",
      "\n",
      "111: What data visualization libraries or tools have you used in the past 5 years? (Select all that apply) - Selected Choice - Matplotlib\n",
      "\n",
      "112: What data visualization libraries or tools have you used in the past 5 years? (Select all that apply) - Selected Choice - Altair\n",
      "\n",
      "113: What data visualization libraries or tools have you used in the past 5 years? (Select all that apply) - Selected Choice - Shiny\n",
      "\n",
      "114: What data visualization libraries or tools have you used in the past 5 years? (Select all that apply) - Selected Choice - D3\n",
      "\n",
      "115: What data visualization libraries or tools have you used in the past 5 years? (Select all that apply) - Selected Choice - Plotly\n",
      "\n",
      "116: What data visualization libraries or tools have you used in the past 5 years? (Select all that apply) - Selected Choice - Bokeh\n",
      "\n",
      "117: What data visualization libraries or tools have you used in the past 5 years? (Select all that apply) - Selected Choice - Seaborn\n",
      "\n",
      "118: What data visualization libraries or tools have you used in the past 5 years? (Select all that apply) - Selected Choice - Geoplotlib\n",
      "\n",
      "119: What data visualization libraries or tools have you used in the past 5 years? (Select all that apply) - Selected Choice - Leaflet\n",
      "\n",
      "120: What data visualization libraries or tools have you used in the past 5 years? (Select all that apply) - Selected Choice - Lattice\n",
      "\n",
      "121: What data visualization libraries or tools have you used in the past 5 years? (Select all that apply) - Selected Choice - None\n",
      "\n",
      "122: What data visualization libraries or tools have you used in the past 5 years? (Select all that apply) - Selected Choice - Other\n",
      "\n",
      "123: What data visualization libraries or tools have you used in the past 5 years? (Select all that apply) - Other - Text\n",
      "\n",
      "124: Of the choices that you selected in the previous question, which specific data visualization library or tool have you used the most? - Selected Choice\n",
      "\n",
      "125: Of the choices that you selected in the previous question, which specific data visualization library or tool have you used the most? - Other - Text\n",
      "\n",
      "126: Approximately what percent of your time at work or school is spent actively coding?\n",
      "\n",
      "127: How long have you been writing code to analyze data?\n",
      "\n",
      "128: For how many years have you used machine learning methods (at work or in school)?\n",
      "\n",
      "129: Do you consider yourself to be a data scientist?\n",
      "\n",
      "130: Which of the following cloud computing products have you used at work or school in the last 5 years (Select all that apply)? - Selected Choice - AWS Elastic Compute Cloud (EC2)\n",
      "\n",
      "131: Which of the following cloud computing products have you used at work or school in the last 5 years (Select all that apply)? - Selected Choice - Google Compute Engine\n",
      "\n",
      "132: Which of the following cloud computing products have you used at work or school in the last 5 years (Select all that apply)? - Selected Choice - AWS Elastic Beanstalk\n",
      "\n",
      "133: Which of the following cloud computing products have you used at work or school in the last 5 years (Select all that apply)? - Selected Choice - Google App Engine\n",
      "\n",
      "134: Which of the following cloud computing products have you used at work or school in the last 5 years (Select all that apply)? - Selected Choice - Google Kubernetes Engine\n",
      "\n",
      "135: Which of the following cloud computing products have you used at work or school in the last 5 years (Select all that apply)? - Selected Choice - AWS Lambda\n",
      "\n",
      "136: Which of the following cloud computing products have you used at work or school in the last 5 years (Select all that apply)? - Selected Choice - Google Cloud Functions\n",
      "\n",
      "137: Which of the following cloud computing products have you used at work or school in the last 5 years (Select all that apply)? - Selected Choice - AWS Batch\n",
      "\n",
      "138: Which of the following cloud computing products have you used at work or school in the last 5 years (Select all that apply)? - Selected Choice - Azure Virtual Machines\n",
      "\n",
      "139: Which of the following cloud computing products have you used at work or school in the last 5 years (Select all that apply)? - Selected Choice - Azure Container Service\n",
      "\n",
      "140: Which of the following cloud computing products have you used at work or school in the last 5 years (Select all that apply)? - Selected Choice - Azure Functions\n",
      "\n",
      "141: Which of the following cloud computing products have you used at work or school in the last 5 years (Select all that apply)? - Selected Choice - Azure Event Grid\n",
      "\n",
      "142: Which of the following cloud computing products have you used at work or school in the last 5 years (Select all that apply)? - Selected Choice - Azure Batch\n",
      "\n",
      "143: Which of the following cloud computing products have you used at work or school in the last 5 years (Select all that apply)? - Selected Choice - Azure Kubernetes Service\n",
      "\n",
      "144: Which of the following cloud computing products have you used at work or school in the last 5 years (Select all that apply)? - Selected Choice - IBM Cloud Virtual Servers\n",
      "\n",
      "145: Which of the following cloud computing products have you used at work or school in the last 5 years (Select all that apply)? - Selected Choice - IBM Cloud Container Registry\n",
      "\n",
      "146: Which of the following cloud computing products have you used at work or school in the last 5 years (Select all that apply)? - Selected Choice - IBM Cloud Kubernetes Service\n",
      "\n",
      "147: Which of the following cloud computing products have you used at work or school in the last 5 years (Select all that apply)? - Selected Choice - IBM Cloud Foundry\n",
      "\n",
      "148: Which of the following cloud computing products have you used at work or school in the last 5 years (Select all that apply)? - Selected Choice - None\n",
      "\n",
      "149: Which of the following cloud computing products have you used at work or school in the last 5 years (Select all that apply)? - Selected Choice - Other\n",
      "\n",
      "150: Which of the following cloud computing products have you used at work or school in the last 5 years (Select all that apply)? - Other - Text\n",
      "\n",
      "151: Which of the following machine learning products have you used at work or school in the last 5 years? (Select all that apply) - Selected Choice - Amazon Transcribe\n",
      "\n",
      "152: Which of the following machine learning products have you used at work or school in the last 5 years? (Select all that apply) - Selected Choice - Google Cloud Speech-to-text API\n",
      "\n",
      "153: Which of the following machine learning products have you used at work or school in the last 5 years? (Select all that apply) - Selected Choice - Amazon Rekognition\n",
      "\n",
      "154: Which of the following machine learning products have you used at work or school in the last 5 years? (Select all that apply) - Selected Choice - Google Cloud Vision API\n",
      "\n",
      "155: Which of the following machine learning products have you used at work or school in the last 5 years? (Select all that apply) - Selected Choice - Amazon Comprehend\n",
      "\n",
      "156: Which of the following machine learning products have you used at work or school in the last 5 years? (Select all that apply) - Selected Choice - Google Cloud Natural Language API\n",
      "\n",
      "157: Which of the following machine learning products have you used at work or school in the last 5 years? (Select all that apply) - Selected Choice - Amazon Translate\n",
      "\n",
      "158: Which of the following machine learning products have you used at work or school in the last 5 years? (Select all that apply) - Selected Choice - Google Cloud Translation API\n",
      "\n",
      "159: Which of the following machine learning products have you used at work or school in the last 5 years? (Select all that apply) - Selected Choice - Amazon Lex\n",
      "\n",
      "160: Which of the following machine learning products have you used at work or school in the last 5 years? (Select all that apply) - Selected Choice - Google Dialogflow Enterprise Edition\n",
      "\n",
      "161: Which of the following machine learning products have you used at work or school in the last 5 years? (Select all that apply) - Selected Choice - Amazon Rekognition Video\n",
      "\n",
      "162: Which of the following machine learning products have you used at work or school in the last 5 years? (Select all that apply) - Selected Choice - Google Cloud Video Intelligence API\n",
      "\n",
      "163: Which of the following machine learning products have you used at work or school in the last 5 years? (Select all that apply) - Selected Choice - Google Cloud AutoML\n",
      "\n",
      "164: Which of the following machine learning products have you used at work or school in the last 5 years? (Select all that apply) - Selected Choice - Amazon SageMaker\n",
      "\n",
      "165: Which of the following machine learning products have you used at work or school in the last 5 years? (Select all that apply) - Selected Choice - Google Cloud Machine Learning Engine\n",
      "\n",
      "166: Which of the following machine learning products have you used at work or school in the last 5 years? (Select all that apply) - Selected Choice - DataRobot\n",
      "\n",
      "167: Which of the following machine learning products have you used at work or school in the last 5 years? (Select all that apply) - Selected Choice - H20 Driverless AI\n",
      "\n",
      "168: Which of the following machine learning products have you used at work or school in the last 5 years? (Select all that apply) - Selected Choice - Domino Datalab\n",
      "\n",
      "169: Which of the following machine learning products have you used at work or school in the last 5 years? (Select all that apply) - Selected Choice - SAS\n",
      "\n",
      "170: Which of the following machine learning products have you used at work or school in the last 5 years? (Select all that apply) - Selected Choice - Dataiku\n",
      "\n",
      "171: Which of the following machine learning products have you used at work or school in the last 5 years? (Select all that apply) - Selected Choice - RapidMiner\n",
      "\n",
      "172: Which of the following machine learning products have you used at work or school in the last 5 years? (Select all that apply) - Selected Choice - Instabase\n",
      "\n",
      "173: Which of the following machine learning products have you used at work or school in the last 5 years? (Select all that apply) - Selected Choice - Algorithmia\n",
      "\n",
      "174: Which of the following machine learning products have you used at work or school in the last 5 years? (Select all that apply) - Selected Choice - Dataversity\n",
      "\n",
      "175: Which of the following machine learning products have you used at work or school in the last 5 years? (Select all that apply) - Selected Choice - Cloudera\n",
      "\n",
      "176: Which of the following machine learning products have you used at work or school in the last 5 years? (Select all that apply) - Selected Choice - Azure Machine Learning Studio\n",
      "\n",
      "177: Which of the following machine learning products have you used at work or school in the last 5 years? (Select all that apply) - Selected Choice - Azure Machine Learning Workbench\n",
      "\n",
      "178: Which of the following machine learning products have you used at work or school in the last 5 years? (Select all that apply) - Selected Choice - Azure Cortana Intelligence Suite\n",
      "\n",
      "179: Which of the following machine learning products have you used at work or school in the last 5 years? (Select all that apply) - Selected Choice - Azure Bing Speech API\n",
      "\n",
      "180: Which of the following machine learning products have you used at work or school in the last 5 years? (Select all that apply) - Selected Choice - Azure Speaker Recognition API\n",
      "\n",
      "181: Which of the following machine learning products have you used at work or school in the last 5 years? (Select all that apply) - Selected Choice - Azure Computer Vision API\n",
      "\n",
      "182: Which of the following machine learning products have you used at work or school in the last 5 years? (Select all that apply) - Selected Choice - Azure Face API\n",
      "\n",
      "183: Which of the following machine learning products have you used at work or school in the last 5 years? (Select all that apply) - Selected Choice - Azure Video API\n",
      "\n",
      "184: Which of the following machine learning products have you used at work or school in the last 5 years? (Select all that apply) - Selected Choice - IBM Watson Studio\n",
      "\n",
      "185: Which of the following machine learning products have you used at work or school in the last 5 years? (Select all that apply) - Selected Choice - IBM Watson Knowledge Catalog\n",
      "\n",
      "186: Which of the following machine learning products have you used at work or school in the last 5 years? (Select all that apply) - Selected Choice - IBM Watson Assistant\n",
      "\n",
      "187: Which of the following machine learning products have you used at work or school in the last 5 years? (Select all that apply) - Selected Choice - IBM Watson Discovery\n",
      "\n",
      "188: Which of the following machine learning products have you used at work or school in the last 5 years? (Select all that apply) - Selected Choice - IBM Watson Text to Speech\n",
      "\n",
      "189: Which of the following machine learning products have you used at work or school in the last 5 years? (Select all that apply) - Selected Choice - IBM Watson Visual Recognition\n",
      "\n",
      "190: Which of the following machine learning products have you used at work or school in the last 5 years? (Select all that apply) - Selected Choice - IBM Watson Machine Learning\n",
      "\n",
      "191: Which of the following machine learning products have you used at work or school in the last 5 years? (Select all that apply) - Selected Choice - Azure Cognitive Services\n",
      "\n",
      "192: Which of the following machine learning products have you used at work or school in the last 5 years? (Select all that apply) - Selected Choice - None\n",
      "\n",
      "193: Which of the following machine learning products have you used at work or school in the last 5 years? (Select all that apply) - Selected Choice - Other\n",
      "\n",
      "194: Which of the following machine learning products have you used at work or school in the last 5 years? (Select all that apply) - Other - Text\n",
      "\n",
      "195: Which of the following relational database products have you used at work or school in the last 5 years? (Select all that apply) - Selected Choice - AWS Relational Database Service\n",
      "\n",
      "196: Which of the following relational database products have you used at work or school in the last 5 years? (Select all that apply) - Selected Choice - AWS Aurora\n",
      "\n",
      "197: Which of the following relational database products have you used at work or school in the last 5 years? (Select all that apply) - Selected Choice - Google Cloud SQL\n",
      "\n",
      "198: Which of the following relational database products have you used at work or school in the last 5 years? (Select all that apply) - Selected Choice - Google Cloud Spanner\n",
      "\n",
      "199: Which of the following relational database products have you used at work or school in the last 5 years? (Select all that apply) - Selected Choice - AWS DynamoDB\n",
      "\n",
      "200: Which of the following relational database products have you used at work or school in the last 5 years? (Select all that apply) - Selected Choice - Google Cloud Datastore\n",
      "\n",
      "201: Which of the following relational database products have you used at work or school in the last 5 years? (Select all that apply) - Selected Choice - Google Cloud Bigtable\n",
      "\n",
      "202: Which of the following relational database products have you used at work or school in the last 5 years? (Select all that apply) - Selected Choice - AWS SimpleDB\n",
      "\n",
      "203: Which of the following relational database products have you used at work or school in the last 5 years? (Select all that apply) - Selected Choice - Microsoft SQL Server\n",
      "\n",
      "204: Which of the following relational database products have you used at work or school in the last 5 years? (Select all that apply) - Selected Choice - MySQL\n",
      "\n",
      "205: Which of the following relational database products have you used at work or school in the last 5 years? (Select all that apply) - Selected Choice - PostgresSQL\n",
      "\n",
      "206: Which of the following relational database products have you used at work or school in the last 5 years? (Select all that apply) - Selected Choice - SQLite\n",
      "\n",
      "207: Which of the following relational database products have you used at work or school in the last 5 years? (Select all that apply) - Selected Choice - Oracle Database\n",
      "\n",
      "208: Which of the following relational database products have you used at work or school in the last 5 years? (Select all that apply) - Selected Choice - Ingres\n",
      "\n",
      "209: Which of the following relational database products have you used at work or school in the last 5 years? (Select all that apply) - Selected Choice - Microsoft Access\n",
      "\n",
      "210: Which of the following relational database products have you used at work or school in the last 5 years? (Select all that apply) - Selected Choice - NexusDB\n",
      "\n",
      "211: Which of the following relational database products have you used at work or school in the last 5 years? (Select all that apply) - Selected Choice - SAP IQ\n",
      "\n",
      "212: Which of the following relational database products have you used at work or school in the last 5 years? (Select all that apply) - Selected Choice - Google Fusion Tables\n",
      "\n",
      "213: Which of the following relational database products have you used at work or school in the last 5 years? (Select all that apply) - Selected Choice - Azure Database for MySQL\n",
      "\n",
      "214: Which of the following relational database products have you used at work or school in the last 5 years? (Select all that apply) - Selected Choice - Azure Cosmos DB\n",
      "\n",
      "215: Which of the following relational database products have you used at work or school in the last 5 years? (Select all that apply) - Selected Choice - Azure SQL Database\n",
      "\n",
      "216: Which of the following relational database products have you used at work or school in the last 5 years? (Select all that apply) - Selected Choice - Azure Database for PostgreSQL\n",
      "\n",
      "217: Which of the following relational database products have you used at work or school in the last 5 years? (Select all that apply) - Selected Choice - IBM Cloud Compose\n",
      "\n",
      "218: Which of the following relational database products have you used at work or school in the last 5 years? (Select all that apply) - Selected Choice - IBM Cloud Compose for MySQL\n",
      "\n",
      "219: Which of the following relational database products have you used at work or school in the last 5 years? (Select all that apply) - Selected Choice - IBM Cloud Compose for PostgreSQL\n",
      "\n",
      "220: Which of the following relational database products have you used at work or school in the last 5 years? (Select all that apply) - Selected Choice - IBM Cloud Db2\n",
      "\n",
      "221: Which of the following relational database products have you used at work or school in the last 5 years? (Select all that apply) - Selected Choice - None\n",
      "\n",
      "222: Which of the following relational database products have you used at work or school in the last 5 years? (Select all that apply) - Selected Choice - Other\n",
      "\n",
      "223: Which of the following relational database products have you used at work or school in the last 5 years? (Select all that apply) - Other - Text\n",
      "\n",
      "224: Which of the following big data and analytics products have you used at work or school in the last 5 years? (Select all that apply) - Selected Choice - AWS Elastic MapReduce\n",
      "\n",
      "225: Which of the following big data and analytics products have you used at work or school in the last 5 years? (Select all that apply) - Selected Choice - AWS Batch\n",
      "\n",
      "226: Which of the following big data and analytics products have you used at work or school in the last 5 years? (Select all that apply) - Selected Choice - Google Cloud Dataproc\n",
      "\n",
      "227: Which of the following big data and analytics products have you used at work or school in the last 5 years? (Select all that apply) - Selected Choice - Google Cloud Dataflow\n",
      "\n",
      "228: Which of the following big data and analytics products have you used at work or school in the last 5 years? (Select all that apply) - Selected Choice - Google Cloud Dataprep\n",
      "\n",
      "229: Which of the following big data and analytics products have you used at work or school in the last 5 years? (Select all that apply) - Selected Choice - AWS Kinesis\n",
      "\n",
      "230: Which of the following big data and analytics products have you used at work or school in the last 5 years? (Select all that apply) - Selected Choice - Google Cloud Pub/Sub\n",
      "\n",
      "231: Which of the following big data and analytics products have you used at work or school in the last 5 years? (Select all that apply) - Selected Choice - AWS Athena\n",
      "\n",
      "232: Which of the following big data and analytics products have you used at work or school in the last 5 years? (Select all that apply) - Selected Choice - AWS Redshift\n",
      "\n",
      "233: Which of the following big data and analytics products have you used at work or school in the last 5 years? (Select all that apply) - Selected Choice - Google BigQuery\n",
      "\n",
      "234: Which of the following big data and analytics products have you used at work or school in the last 5 years? (Select all that apply) - Selected Choice - Teradata\n",
      "\n",
      "235: Which of the following big data and analytics products have you used at work or school in the last 5 years? (Select all that apply) - Selected Choice - Microsoft Analysis Services\n",
      "\n",
      "236: Which of the following big data and analytics products have you used at work or school in the last 5 years? (Select all that apply) - Selected Choice - Oracle Exadata\n",
      "\n",
      "237: Which of the following big data and analytics products have you used at work or school in the last 5 years? (Select all that apply) - Selected Choice - Oracle Warehouse Builder\n",
      "\n",
      "238: Which of the following big data and analytics products have you used at work or school in the last 5 years? (Select all that apply) - Selected Choice - SAP IQ\n",
      "\n",
      "239: Which of the following big data and analytics products have you used at work or school in the last 5 years? (Select all that apply) - Selected Choice - Snowflake\n",
      "\n",
      "240: Which of the following big data and analytics products have you used at work or school in the last 5 years? (Select all that apply) - Selected Choice - Databricks\n",
      "\n",
      "241: Which of the following big data and analytics products have you used at work or school in the last 5 years? (Select all that apply) - Selected Choice - Azure SQL Data Warehouse\n",
      "\n",
      "242: Which of the following big data and analytics products have you used at work or school in the last 5 years? (Select all that apply) - Selected Choice - Azure HDInsight\n",
      "\n",
      "243: Which of the following big data and analytics products have you used at work or school in the last 5 years? (Select all that apply) - Selected Choice - Azure Stream Analytics\n",
      "\n",
      "244: Which of the following big data and analytics products have you used at work or school in the last 5 years? (Select all that apply) - Selected Choice - IBM InfoSphere DataStorage\n",
      "\n",
      "245: Which of the following big data and analytics products have you used at work or school in the last 5 years? (Select all that apply) - Selected Choice - IBM Cloud Analytics Engine\n",
      "\n",
      "246: Which of the following big data and analytics products have you used at work or school in the last 5 years? (Select all that apply) - Selected Choice - IBM Cloud Streaming Analytics\n",
      "\n",
      "247: Which of the following big data and analytics products have you used at work or school in the last 5 years? (Select all that apply) - Selected Choice - None\n",
      "\n",
      "248: Which of the following big data and analytics products have you used at work or school in the last 5 years? (Select all that apply) - Selected Choice - Other\n",
      "\n",
      "249: Which of the following big data and analytics products have you used at work or school in the last 5 years? (Select all that apply) - Other - Text\n",
      "\n",
      "250: Which types of data do you currently interact with most often at work or school? (Select all that apply) - Selected Choice - Audio Data\n",
      "\n",
      "251: Which types of data do you currently interact with most often at work or school? (Select all that apply) - Selected Choice - Categorical Data\n",
      "\n",
      "252: Which types of data do you currently interact with most often at work or school? (Select all that apply) - Selected Choice - Genetic Data\n",
      "\n",
      "253: Which types of data do you currently interact with most often at work or school? (Select all that apply) - Selected Choice - Geospatial Data\n",
      "\n",
      "254: Which types of data do you currently interact with most often at work or school? (Select all that apply) - Selected Choice - Image Data\n",
      "\n",
      "255: Which types of data do you currently interact with most often at work or school? (Select all that apply) - Selected Choice - Numerical Data\n",
      "\n",
      "256: Which types of data do you currently interact with most often at work or school? (Select all that apply) - Selected Choice - Sensor Data\n",
      "\n",
      "257: Which types of data do you currently interact with most often at work or school? (Select all that apply) - Selected Choice - Tabular Data\n",
      "\n",
      "258: Which types of data do you currently interact with most often at work or school? (Select all that apply) - Selected Choice - Text Data\n",
      "\n",
      "259: Which types of data do you currently interact with most often at work or school? (Select all that apply) - Selected Choice - Time Series Data\n",
      "\n",
      "260: Which types of data do you currently interact with most often at work or school? (Select all that apply) - Selected Choice - Video Data\n",
      "\n",
      "261: Which types of data do you currently interact with most often at work or school? (Select all that apply) - Selected Choice - Other Data\n",
      "\n",
      "262: Which types of data do you currently interact with most often at work or school? (Select all that apply) - Other Data - Text\n",
      "\n",
      "263: What is the type of data that you currently interact with most often at work or school? - Selected Choice\n",
      "\n",
      "264: What is the type of data that you currently interact with most often at work or school? - Other Data - Text\n",
      "\n",
      "265: Where do you find public datasets? (Select all that apply) - Selected Choice - Government websites\n",
      "\n",
      "266: Where do you find public datasets? (Select all that apply) - Selected Choice - University research group websites\n",
      "\n",
      "267: Where do you find public datasets? (Select all that apply) - Selected Choice - Non-profit research group websites\n",
      "\n",
      "268: Where do you find public datasets? (Select all that apply) - Selected Choice - Dataset aggregator/platform (Socrata, Kaggle Public Datasets Platform, etc.)\n",
      "\n",
      "269: Where do you find public datasets? (Select all that apply) - Selected Choice - I collect my own data (web-scraping, etc.)\n",
      "\n",
      "270: Where do you find public datasets? (Select all that apply) - Selected Choice - Publicly released data from private companies\n",
      "\n",
      "271: Where do you find public datasets? (Select all that apply) - Selected Choice - Google Search\n",
      "\n",
      "272: Where do you find public datasets? (Select all that apply) - Selected Choice - Google Dataset Search\n",
      "\n",
      "273: Where do you find public datasets? (Select all that apply) - Selected Choice - GitHub\n",
      "\n",
      "274: Where do you find public datasets? (Select all that apply) - Selected Choice - None/I do not work with public data\n",
      "\n",
      "275: Where do you find public datasets? (Select all that apply) - Selected Choice - Other\n",
      "\n",
      "276: Where do you find public datasets? (Select all that apply) - Other - Text\n",
      "\n",
      "277: During a typical data science project at work or school, approximately what proportion of your time is devoted to the following? (Answers must add up to 100%) - Gathering data\n",
      "\n",
      "278: During a typical data science project at work or school, approximately what proportion of your time is devoted to the following? (Answers must add up to 100%) - Cleaning data\n",
      "\n",
      "279: During a typical data science project at work or school, approximately what proportion of your time is devoted to the following? (Answers must add up to 100%) - Visualizing data\n",
      "\n",
      "280: During a typical data science project at work or school, approximately what proportion of your time is devoted to the following? (Answers must add up to 100%) - Model building/model selection\n",
      "\n",
      "281: During a typical data science project at work or school, approximately what proportion of your time is devoted to the following? (Answers must add up to 100%) - Putting the model into production\n",
      "\n",
      "282: During a typical data science project at work or school, approximately what proportion of your time is devoted to the following? (Answers must add up to 100%) - Finding insights in the data and communicating with stakeholders\n",
      "\n",
      "283: During a typical data science project at work or school, approximately what proportion of your time is devoted to the following? (Answers must add up to 100%) - Other\n",
      "\n",
      "284: What percentage of your current machine learning/data science training falls under each category? (Answers must add up to 100%) - Self-taught\n",
      "\n",
      "285: What percentage of your current machine learning/data science training falls under each category? (Answers must add up to 100%) - Online courses (Coursera, Udemy, edX, etc.)\n",
      "\n",
      "286: What percentage of your current machine learning/data science training falls under each category? (Answers must add up to 100%) - Work\n",
      "\n",
      "287: What percentage of your current machine learning/data science training falls under each category? (Answers must add up to 100%) - University\n",
      "\n",
      "288: What percentage of your current machine learning/data science training falls under each category? (Answers must add up to 100%) - Kaggle competitions\n",
      "\n",
      "289: What percentage of your current machine learning/data science training falls under each category? (Answers must add up to 100%) - Other\n",
      "\n",
      "290: What percentage of your current machine learning/data science training falls under each category? (Answers must add up to 100%) - Other - Text\n",
      "\n",
      "291: On which online platforms have you begun or completed data science courses? (Select all that apply) - Selected Choice - Udacity\n",
      "\n",
      "292: On which online platforms have you begun or completed data science courses? (Select all that apply) - Selected Choice - Coursera\n",
      "\n",
      "293: On which online platforms have you begun or completed data science courses? (Select all that apply) - Selected Choice - edX\n",
      "\n",
      "294: On which online platforms have you begun or completed data science courses? (Select all that apply) - Selected Choice - DataCamp\n",
      "\n",
      "295: On which online platforms have you begun or completed data science courses? (Select all that apply) - Selected Choice - DataQuest\n",
      "\n",
      "296: On which online platforms have you begun or completed data science courses? (Select all that apply) - Selected Choice - Kaggle Learn\n",
      "\n",
      "297: On which online platforms have you begun or completed data science courses? (Select all that apply) - Selected Choice - Fast.AI\n",
      "\n",
      "298: On which online platforms have you begun or completed data science courses? (Select all that apply) - Selected Choice - developers.google.com\n",
      "\n",
      "299: On which online platforms have you begun or completed data science courses? (Select all that apply) - Selected Choice - Udemy\n",
      "\n",
      "300: On which online platforms have you begun or completed data science courses? (Select all that apply) - Selected Choice - TheSchool.AI\n",
      "\n",
      "301: On which online platforms have you begun or completed data science courses? (Select all that apply) - Selected Choice - Online University Courses\n",
      "\n",
      "302: On which online platforms have you begun or completed data science courses? (Select all that apply) - Selected Choice - None\n",
      "\n",
      "303: On which online platforms have you begun or completed data science courses? (Select all that apply) - Selected Choice - Other\n",
      "\n",
      "304: On which online platforms have you begun or completed data science courses? (Select all that apply) - Other - Text\n",
      "\n",
      "305: On which online platform have you spent the most amount of time? - Selected Choice\n",
      "\n",
      "306: On which online platform have you spent the most amount of time? - Other - Text\n",
      "\n",
      "307: Who/what are your favorite media sources that report on data science topics? (Select all that apply) - Selected Choice - Twitter\n",
      "\n",
      "308: Who/what are your favorite media sources that report on data science topics? (Select all that apply) - Selected Choice - Hacker News\n",
      "\n",
      "309: Who/what are your favorite media sources that report on data science topics? (Select all that apply) - Selected Choice - r/machinelearning\n",
      "\n",
      "310: Who/what are your favorite media sources that report on data science topics? (Select all that apply) - Selected Choice - Kaggle forums\n",
      "\n",
      "311: Who/what are your favorite media sources that report on data science topics? (Select all that apply) - Selected Choice - Fastai forums\n",
      "\n",
      "312: Who/what are your favorite media sources that report on data science topics? (Select all that apply) - Selected Choice - Siraj Raval YouTube Channel\n",
      "\n",
      "313: Who/what are your favorite media sources that report on data science topics? (Select all that apply) - Selected Choice - DataTau News Aggregator\n",
      "\n",
      "314: Who/what are your favorite media sources that report on data science topics? (Select all that apply) - Selected Choice - Linear Digressions Podcast\n",
      "\n",
      "315: Who/what are your favorite media sources that report on data science topics? (Select all that apply) - Selected Choice - Cloud AI Adventures (YouTube)\n",
      "\n",
      "316: Who/what are your favorite media sources that report on data science topics? (Select all that apply) - Selected Choice - FiveThirtyEight.com\n",
      "\n",
      "317: Who/what are your favorite media sources that report on data science topics? (Select all that apply) - Selected Choice - ArXiv & Preprints\n",
      "\n",
      "318: Who/what are your favorite media sources that report on data science topics? (Select all that apply) - Selected Choice - Journal Publications\n",
      "\n",
      "319: Who/what are your favorite media sources that report on data science topics? (Select all that apply) - Selected Choice - FastML Blog\n",
      "\n",
      "320: Who/what are your favorite media sources that report on data science topics? (Select all that apply) - Selected Choice - KDnuggets Blog\n",
      "\n",
      "321: Who/what are your favorite media sources that report on data science topics? (Select all that apply) - Selected Choice - O'Reilly Data Newsletter\n",
      "\n",
      "322: Who/what are your favorite media sources that report on data science topics? (Select all that apply) - Selected Choice - Partially Derivative Podcast\n",
      "\n",
      "323: Who/what are your favorite media sources that report on data science topics? (Select all that apply) - Selected Choice - The Data Skeptic Podcast\n",
      "\n",
      "324: Who/what are your favorite media sources that report on data science topics? (Select all that apply) - Selected Choice - Medium Blog Posts\n",
      "\n",
      "325: Who/what are your favorite media sources that report on data science topics? (Select all that apply) - Selected Choice - Towards Data Science Blog\n",
      "\n",
      "326: Who/what are your favorite media sources that report on data science topics? (Select all that apply) - Selected Choice - Analytics Vidhya Blog\n",
      "\n",
      "327: Who/what are your favorite media sources that report on data science topics? (Select all that apply) - Selected Choice - None/I do not know\n",
      "\n",
      "328: Who/what are your favorite media sources that report on data science topics? (Select all that apply) - Selected Choice - Other\n",
      "\n",
      "329: Who/what are your favorite media sources that report on data science topics? (Select all that apply) - Other - Text\n",
      "\n",
      "330: How do you perceive the quality of online learning platforms and in-person bootcamps as compared to the quality of the education provided by traditional brick and mortar institutions? - Online learning platforms and MOOCs:\n",
      "\n",
      "331: How do you perceive the quality of online learning platforms and in-person bootcamps as compared to the quality of the education provided by traditional brick and mortar institutions? - In-person bootcamps:\n",
      "\n",
      "332: Which better demonstrates expertise in data science: academic achievements or independent projects? - Your views:\n",
      "\n",
      "333: How do you perceive the importance of the following topics? - Fairness and bias in ML algorithms:\n",
      "\n",
      "334: How do you perceive the importance of the following topics? - Being able to explain ML model outputs and/or predictions\n",
      "\n",
      "335: How do you perceive the importance of the following topics? - Reproducibility in data science\n",
      "\n",
      "336: What metrics do you or your organization use to determine whether or not your models were successful? (Select all that apply) - Selected Choice - Revenue and/or business goals\n",
      "\n",
      "337: What metrics do you or your organization use to determine whether or not your models were successful? (Select all that apply) - Selected Choice - Metrics that consider accuracy\n",
      "\n",
      "338: What metrics do you or your organization use to determine whether or not your models were successful? (Select all that apply) - Selected Choice - Metrics that consider unfair bias\n",
      "\n",
      "339: What metrics do you or your organization use to determine whether or not your models were successful? (Select all that apply) - Selected Choice - Not applicable (I am not involved with an organization that builds ML models)\n",
      "\n",
      "340: What metrics do you or your organization use to determine whether or not your models were successful? (Select all that apply) - Selected Choice - Other\n",
      "\n",
      "341: What metrics do you or your organization use to determine whether or not your models were successful? (Select all that apply) - Other - Text\n",
      "\n",
      "342: Approximately what percent of your data projects involved exploring unfair bias in the dataset and/or algorithm?\n",
      "\n",
      "343: What do you find most difficult about ensuring that your algorithms are fair and unbiased? (Select all that apply) - Lack of communication between individuals who collect the data and individuals who analyze the data\n",
      "\n",
      "344: What do you find most difficult about ensuring that your algorithms are fair and unbiased? (Select all that apply) - Difficulty in identifying groups that are unfairly targeted\n",
      "\n",
      "345: What do you find most difficult about ensuring that your algorithms are fair and unbiased? (Select all that apply) - Difficulty in collecting enough data about groups that may be unfairly targeted\n",
      "\n",
      "346: What do you find most difficult about ensuring that your algorithms are fair and unbiased? (Select all that apply) - Difficulty in identifying and selecting the appropriate evaluation metrics\n",
      "\n",
      "347: What do you find most difficult about ensuring that your algorithms are fair and unbiased? (Select all that apply) - I have never found any difficulty in this task\n",
      "\n",
      "348: What do you find most difficult about ensuring that your algorithms are fair and unbiased? (Select all that apply) - I have never performed this task\n",
      "\n",
      "349: In what circumstances would you explore model insights and interpret your model's predictions? (Select all that apply) - Only for very important models that are already in production\n",
      "\n",
      "350: In what circumstances would you explore model insights and interpret your model's predictions? (Select all that apply) - For all models right before putting the model in production\n",
      "\n",
      "351: In what circumstances would you explore model insights and interpret your model's predictions? (Select all that apply) - When determining whether it is worth it to put the model into production\n",
      "\n",
      "352: In what circumstances would you explore model insights and interpret your model's predictions? (Select all that apply) - When building a model that was specifically designed to produce such insights\n",
      "\n",
      "353: In what circumstances would you explore model insights and interpret your model's predictions? (Select all that apply) - When first exploring a new ML model or dataset\n",
      "\n",
      "354: In what circumstances would you explore model insights and interpret your model's predictions? (Select all that apply) - I do not explore and interpret model insights and predictions\n",
      "\n",
      "355: Approximately what percent of your data projects involve exploring model insights?\n",
      "\n",
      "356: What methods do you prefer for explaining and/or interpreting decisions that are made by ML models? (Select all that apply) - Selected Choice - Examine individual model coefficients\n",
      "\n",
      "357: What methods do you prefer for explaining and/or interpreting decisions that are made by ML models? (Select all that apply) - Selected Choice - Examine feature correlations\n",
      "\n",
      "358: What methods do you prefer for explaining and/or interpreting decisions that are made by ML models? (Select all that apply) - Selected Choice - Examine feature importances\n",
      "\n",
      "359: What methods do you prefer for explaining and/or interpreting decisions that are made by ML models? (Select all that apply) - Selected Choice - Plot decision boundaries\n",
      "\n",
      "360: What methods do you prefer for explaining and/or interpreting decisions that are made by ML models? (Select all that apply) - Selected Choice - Create partial dependence plots\n",
      "\n",
      "361: What methods do you prefer for explaining and/or interpreting decisions that are made by ML models? (Select all that apply) - Selected Choice - Dimensionality reduction techniques\n",
      "\n",
      "362: What methods do you prefer for explaining and/or interpreting decisions that are made by ML models? (Select all that apply) - Selected Choice - Attention mapping/saliency mapping\n",
      "\n",
      "363: What methods do you prefer for explaining and/or interpreting decisions that are made by ML models? (Select all that apply) - Selected Choice - Plot predicted vs. actual results\n",
      "\n",
      "364: What methods do you prefer for explaining and/or interpreting decisions that are made by ML models? (Select all that apply) - Selected Choice - Print out a decision tree\n",
      "\n",
      "365: What methods do you prefer for explaining and/or interpreting decisions that are made by ML models? (Select all that apply) - Selected Choice - Sensitivity analysis/perturbation importance\n",
      "\n",
      "366: What methods do you prefer for explaining and/or interpreting decisions that are made by ML models? (Select all that apply) - Selected Choice - LIME functions\n",
      "\n",
      "367: What methods do you prefer for explaining and/or interpreting decisions that are made by ML models? (Select all that apply) - Selected Choice - ELI5 functions\n",
      "\n",
      "368: What methods do you prefer for explaining and/or interpreting decisions that are made by ML models? (Select all that apply) - Selected Choice - SHAP functions\n",
      "\n",
      "369: What methods do you prefer for explaining and/or interpreting decisions that are made by ML models? (Select all that apply) - Selected Choice - None/I do not use these model explanation techniques\n",
      "\n",
      "370: What methods do you prefer for explaining and/or interpreting decisions that are made by ML models? (Select all that apply) - Selected Choice - Other\n",
      "\n",
      "371: What methods do you prefer for explaining and/or interpreting decisions that are made by ML models? (Select all that apply) - Other - Text\n",
      "\n",
      "372: Do you consider ML models to be \"black boxes\" with outputs that are difficult or impossible to explain?\n",
      "\n",
      "373: What tools and methods do you use to make your work easy to reproduce? (Select all that apply) - Selected Choice - Share code on Github or a similar code-sharing repository\n",
      "\n",
      "374: What tools and methods do you use to make your work easy to reproduce? (Select all that apply) - Selected Choice - Share both data and code on Github or a similar code-sharing repository\n",
      "\n",
      "375: What tools and methods do you use to make your work easy to reproduce? (Select all that apply) - Selected Choice - Share data, code, and environment using a hosted service (Kaggle Kernels, Google Colaboratory, Amazon SageMaker, etc.)\n",
      "\n",
      "376: What tools and methods do you use to make your work easy to reproduce? (Select all that apply) - Selected Choice - Share data, code, and environment using containers (Docker, etc.)\n",
      "\n",
      "377: What tools and methods do you use to make your work easy to reproduce? (Select all that apply) - Selected Choice - Share code, data, and environment using virtual machines (VirtualBox, etc.)\n",
      "\n",
      "378: What tools and methods do you use to make your work easy to reproduce? (Select all that apply) - Selected Choice - Make sure the code is well documented\n",
      "\n",
      "379: What tools and methods do you use to make your work easy to reproduce? (Select all that apply) - Selected Choice - Make sure the code is human-readable\n",
      "\n",
      "380: What tools and methods do you use to make your work easy to reproduce? (Select all that apply) - Selected Choice - Define all random seeds\n",
      "\n",
      "381: What tools and methods do you use to make your work easy to reproduce? (Select all that apply) - Selected Choice - Define relative rather than absolute file paths\n",
      "\n",
      "382: What tools and methods do you use to make your work easy to reproduce? (Select all that apply) - Selected Choice - Include a text file describing all dependencies\n",
      "\n",
      "383: What tools and methods do you use to make your work easy to reproduce? (Select all that apply) - Selected Choice - None/I do not make my work easy for others to reproduce\n",
      "\n",
      "384: What tools and methods do you use to make your work easy to reproduce? (Select all that apply) - Selected Choice - Other\n",
      "\n",
      "385: What tools and methods do you use to make your work easy to reproduce? (Select all that apply) - Other - Text\n",
      "\n",
      "386: What barriers prevent you from making your work even easier to reuse and reproduce? (Select all that apply) - Selected Choice - Too expensive\n",
      "\n",
      "387: What barriers prevent you from making your work even easier to reuse and reproduce? (Select all that apply) - Selected Choice - Too time-consuming\n",
      "\n",
      "388: What barriers prevent you from making your work even easier to reuse and reproduce? (Select all that apply) - Selected Choice - Requires too much technical knowledge\n",
      "\n",
      "389: What barriers prevent you from making your work even easier to reuse and reproduce? (Select all that apply) - Selected Choice - Afraid that others will use my work without giving proper credit\n",
      "\n",
      "390: What barriers prevent you from making your work even easier to reuse and reproduce? (Select all that apply) - Selected Choice - Not enough incentives to share my work\n",
      "\n",
      "391: What barriers prevent you from making your work even easier to reuse and reproduce? (Select all that apply) - Selected Choice - I had never considered making my work easier for others to reproduce\n",
      "\n",
      "392: What barriers prevent you from making your work even easier to reuse and reproduce? (Select all that apply) - Selected Choice - None of these reasons apply to me\n",
      "\n",
      "393: What barriers prevent you from making your work even easier to reuse and reproduce? (Select all that apply) - Selected Choice - Other\n",
      "\n",
      "394: What barriers prevent you from making your work even easier to reuse and reproduce? (Select all that apply) - Other - Text\n",
      "\n"
     ]
    }
   ],
   "source": [
    "for index, name in enumerate(df_mc_2018.columns):\n",
    "    print(str(index) + ': ' + name)\n",
    "    print('')"
   ]
  },
  {
   "cell_type": "code",
   "execution_count": 143,
   "metadata": {},
   "outputs": [
    {
     "name": "stdout",
     "output_type": "stream",
     "text": [
      "0: Duration (in seconds)\n",
      "\n",
      "1: What is your age (# years)?\n",
      "\n",
      "2: What is your gender? - Selected Choice\n",
      "\n",
      "3: What is your gender? - Prefer to self-describe - Text\n",
      "\n",
      "4: In which country do you currently reside?\n",
      "\n",
      "5: What is the highest level of formal education that you have attained or plan to attain within the next 2 years?\n",
      "\n",
      "6: Select the title most similar to your current role (or most recent title if retired): - Selected Choice\n",
      "\n",
      "7: Select the title most similar to your current role (or most recent title if retired): - Other - Text\n",
      "\n",
      "8: What is the size of the company where you are employed?\n",
      "\n",
      "9: Approximately how many individuals are responsible for data science workloads at your place of business?\n",
      "\n",
      "10: Does your current employer incorporate machine learning methods into their business?\n",
      "\n",
      "11: Select any activities that make up an important part of your role at work: (Select all that apply) - Selected Choice - Analyze and understand data to influence product or business decisions\n",
      "\n",
      "12: Select any activities that make up an important part of your role at work: (Select all that apply) - Selected Choice - Build and/or run the data infrastructure that my business uses for storing, analyzing, and operationalizing data\n",
      "\n",
      "13: Select any activities that make up an important part of your role at work: (Select all that apply) - Selected Choice - Build prototypes to explore applying machine learning to new areas\n",
      "\n",
      "14: Select any activities that make up an important part of your role at work: (Select all that apply) - Selected Choice - Build and/or run a machine learning service that operationally improves my product or workflows\n",
      "\n",
      "15: Select any activities that make up an important part of your role at work: (Select all that apply) - Selected Choice - Experimentation and iteration to improve existing ML models\n",
      "\n",
      "16: Select any activities that make up an important part of your role at work: (Select all that apply) - Selected Choice - Do research that advances the state of the art of machine learning\n",
      "\n",
      "17: Select any activities that make up an important part of your role at work: (Select all that apply) - Selected Choice - None of these activities are an important part of my role at work\n",
      "\n",
      "18: Select any activities that make up an important part of your role at work: (Select all that apply) - Selected Choice - Other\n",
      "\n",
      "19: Select any activities that make up an important part of your role at work: (Select all that apply) - Other - Text\n",
      "\n",
      "20: What is your current yearly compensation (approximate $USD)?\n",
      "\n",
      "21: Approximately how much money have you spent on machine learning and/or cloud computing products at your work in the past 5 years?\n",
      "\n",
      "22: Who/what are your favorite media sources that report on data science topics? (Select all that apply) - Selected Choice - Twitter (data science influencers)\n",
      "\n",
      "23: Who/what are your favorite media sources that report on data science topics? (Select all that apply) - Selected Choice - Hacker News (https://news.ycombinator.com/)\n",
      "\n",
      "24: Who/what are your favorite media sources that report on data science topics? (Select all that apply) - Selected Choice - Reddit (r/machinelearning, r/datascience, etc)\n",
      "\n",
      "25: Who/what are your favorite media sources that report on data science topics? (Select all that apply) - Selected Choice - Kaggle (forums, blog, social media, etc)\n",
      "\n",
      "26: Who/what are your favorite media sources that report on data science topics? (Select all that apply) - Selected Choice - Course Forums (forums.fast.ai, etc)\n",
      "\n",
      "27: Who/what are your favorite media sources that report on data science topics? (Select all that apply) - Selected Choice - YouTube (Cloud AI Adventures, Siraj Raval, etc)\n",
      "\n",
      "28: Who/what are your favorite media sources that report on data science topics? (Select all that apply) - Selected Choice - Podcasts (Chai Time Data Science, Linear Digressions, etc)\n",
      "\n",
      "29: Who/what are your favorite media sources that report on data science topics? (Select all that apply) - Selected Choice - Blogs (Towards Data Science, Medium, Analytics Vidhya, KDnuggets etc)\n",
      "\n",
      "30: Who/what are your favorite media sources that report on data science topics? (Select all that apply) - Selected Choice - Journal Publications (traditional publications, preprint journals, etc)\n",
      "\n",
      "31: Who/what are your favorite media sources that report on data science topics? (Select all that apply) - Selected Choice - Slack Communities (ods.ai, kagglenoobs, etc)\n",
      "\n",
      "32: Who/what are your favorite media sources that report on data science topics? (Select all that apply) - Selected Choice - None\n",
      "\n",
      "33: Who/what are your favorite media sources that report on data science topics? (Select all that apply) - Selected Choice - Other\n",
      "\n",
      "34: Who/what are your favorite media sources that report on data science topics? (Select all that apply) - Other - Text\n",
      "\n",
      "35: On which platforms have you begun or completed data science courses? (Select all that apply) - Selected Choice - Udacity\n",
      "\n",
      "36: On which platforms have you begun or completed data science courses? (Select all that apply) - Selected Choice - Coursera\n",
      "\n",
      "37: On which platforms have you begun or completed data science courses? (Select all that apply) - Selected Choice - edX\n",
      "\n",
      "38: On which platforms have you begun or completed data science courses? (Select all that apply) - Selected Choice - DataCamp\n",
      "\n",
      "39: On which platforms have you begun or completed data science courses? (Select all that apply) - Selected Choice - DataQuest\n",
      "\n",
      "40: On which platforms have you begun or completed data science courses? (Select all that apply) - Selected Choice - Kaggle Courses (i.e. Kaggle Learn)\n",
      "\n",
      "41: On which platforms have you begun or completed data science courses? (Select all that apply) - Selected Choice - Fast.ai\n",
      "\n",
      "42: On which platforms have you begun or completed data science courses? (Select all that apply) - Selected Choice - Udemy\n",
      "\n",
      "43: On which platforms have you begun or completed data science courses? (Select all that apply) - Selected Choice - LinkedIn Learning\n",
      "\n",
      "44: On which platforms have you begun or completed data science courses? (Select all that apply) - Selected Choice - University Courses (resulting in a university degree)\n",
      "\n",
      "45: On which platforms have you begun or completed data science courses? (Select all that apply) - Selected Choice - None\n",
      "\n",
      "46: On which platforms have you begun or completed data science courses? (Select all that apply) - Selected Choice - Other\n",
      "\n",
      "47: On which platforms have you begun or completed data science courses? (Select all that apply) - Other - Text\n",
      "\n",
      "48: What is the primary tool that you use at work or school to analyze data? (Include text response) - Selected Choice\n",
      "\n",
      "49: What is the primary tool that you use at work or school to analyze data? (Include text response) - Basic statistical software (Microsoft Excel, Google Sheets, etc.) - Text\n",
      "\n",
      "50: What is the primary tool that you use at work or school to analyze data? (Include text response) - Advanced statistical software (SPSS, SAS, etc.) - Text\n",
      "\n",
      "51: What is the primary tool that you use at work or school to analyze data? (Include text response) - Business intelligence software (Salesforce, Tableau, Spotfire, etc.) - Text\n",
      "\n",
      "52: What is the primary tool that you use at work or school to analyze data? (Include text response) - Local development environments (RStudio, JupyterLab, etc.) - Text\n",
      "\n",
      "53: What is the primary tool that you use at work or school to analyze data? (Include text response) - Cloud-based data software & APIs (AWS, GCP, Azure, etc.) - Text\n",
      "\n",
      "54: What is the primary tool that you use at work or school to analyze data? (Include text response) - Other - Text\n",
      "\n",
      "55: How long have you been writing code to analyze data (at work or at school)?\n",
      "\n",
      "56: Which of the following integrated development environments (IDE's) do you use on a regular basis?  (Select all that apply) - Selected Choice - Jupyter (JupyterLab, Jupyter Notebooks, etc) \n",
      "\n",
      "57: Which of the following integrated development environments (IDE's) do you use on a regular basis?  (Select all that apply) - Selected Choice -  RStudio \n",
      "\n",
      "58: Which of the following integrated development environments (IDE's) do you use on a regular basis?  (Select all that apply) - Selected Choice -  PyCharm \n",
      "\n",
      "59: Which of the following integrated development environments (IDE's) do you use on a regular basis?  (Select all that apply) - Selected Choice -  Atom \n",
      "\n",
      "60: Which of the following integrated development environments (IDE's) do you use on a regular basis?  (Select all that apply) - Selected Choice -  MATLAB \n",
      "\n",
      "61: Which of the following integrated development environments (IDE's) do you use on a regular basis?  (Select all that apply) - Selected Choice -  Visual Studio / Visual Studio Code \n",
      "\n",
      "62: Which of the following integrated development environments (IDE's) do you use on a regular basis?  (Select all that apply) - Selected Choice -   Spyder  \n",
      "\n",
      "63: Which of the following integrated development environments (IDE's) do you use on a regular basis?  (Select all that apply) - Selected Choice -   Vim / Emacs  \n",
      "\n",
      "64: Which of the following integrated development environments (IDE's) do you use on a regular basis?  (Select all that apply) - Selected Choice -   Notepad++  \n",
      "\n",
      "65: Which of the following integrated development environments (IDE's) do you use on a regular basis?  (Select all that apply) - Selected Choice -   Sublime Text  \n",
      "\n",
      "66: Which of the following integrated development environments (IDE's) do you use on a regular basis?  (Select all that apply) - Selected Choice - None\n",
      "\n",
      "67: Which of the following integrated development environments (IDE's) do you use on a regular basis?  (Select all that apply) - Selected Choice - Other\n",
      "\n",
      "68: Which of the following integrated development environments (IDE's) do you use on a regular basis?  (Select all that apply) - Other - Text\n",
      "\n",
      "69: Which of the following hosted notebook products do you use on a regular basis?  (Select all that apply) - Selected Choice -  Kaggle Notebooks (Kernels) \n",
      "\n",
      "70: Which of the following hosted notebook products do you use on a regular basis?  (Select all that apply) - Selected Choice -  Google Colab \n",
      "\n",
      "71: Which of the following hosted notebook products do you use on a regular basis?  (Select all that apply) - Selected Choice -  Microsoft Azure Notebooks \n",
      "\n",
      "72: Which of the following hosted notebook products do you use on a regular basis?  (Select all that apply) - Selected Choice -  Google Cloud Notebook Products (AI Platform, Datalab, etc) \n",
      "\n",
      "73: Which of the following hosted notebook products do you use on a regular basis?  (Select all that apply) - Selected Choice -  Paperspace / Gradient \n",
      "\n",
      "74: Which of the following hosted notebook products do you use on a regular basis?  (Select all that apply) - Selected Choice -  FloydHub \n",
      "\n",
      "75: Which of the following hosted notebook products do you use on a regular basis?  (Select all that apply) - Selected Choice -  Binder / JupyterHub \n",
      "\n",
      "76: Which of the following hosted notebook products do you use on a regular basis?  (Select all that apply) - Selected Choice -  IBM Watson Studio \n",
      "\n",
      "77: Which of the following hosted notebook products do you use on a regular basis?  (Select all that apply) - Selected Choice - Code Ocean \n",
      "\n",
      "78: Which of the following hosted notebook products do you use on a regular basis?  (Select all that apply) - Selected Choice - AWS Notebook Products (EMR Notebooks, Sagemaker Notebooks, etc) \n",
      "\n",
      "79: Which of the following hosted notebook products do you use on a regular basis?  (Select all that apply) - Selected Choice - None\n",
      "\n",
      "80: Which of the following hosted notebook products do you use on a regular basis?  (Select all that apply) - Selected Choice - Other\n",
      "\n",
      "81: Which of the following hosted notebook products do you use on a regular basis?  (Select all that apply) - Other - Text\n",
      "\n",
      "82: What programming languages do you use on a regular basis? (Select all that apply) - Selected Choice - Python\n",
      "\n",
      "83: What programming languages do you use on a regular basis? (Select all that apply) - Selected Choice - R\n",
      "\n",
      "84: What programming languages do you use on a regular basis? (Select all that apply) - Selected Choice - SQL\n",
      "\n",
      "85: What programming languages do you use on a regular basis? (Select all that apply) - Selected Choice - C\n",
      "\n",
      "86: What programming languages do you use on a regular basis? (Select all that apply) - Selected Choice - C++\n",
      "\n",
      "87: What programming languages do you use on a regular basis? (Select all that apply) - Selected Choice - Java\n",
      "\n",
      "88: What programming languages do you use on a regular basis? (Select all that apply) - Selected Choice - Javascript\n",
      "\n",
      "89: What programming languages do you use on a regular basis? (Select all that apply) - Selected Choice - TypeScript\n",
      "\n",
      "90: What programming languages do you use on a regular basis? (Select all that apply) - Selected Choice - Bash\n",
      "\n",
      "91: What programming languages do you use on a regular basis? (Select all that apply) - Selected Choice - MATLAB\n",
      "\n",
      "92: What programming languages do you use on a regular basis? (Select all that apply) - Selected Choice - None\n",
      "\n",
      "93: What programming languages do you use on a regular basis? (Select all that apply) - Selected Choice - Other\n",
      "\n",
      "94: What programming languages do you use on a regular basis? (Select all that apply) - Other - Text\n",
      "\n",
      "95: What programming language would you recommend an aspiring data scientist to learn first? - Selected Choice\n",
      "\n",
      "96: What programming language would you recommend an aspiring data scientist to learn first? - Other - Text\n",
      "\n",
      "97: What data visualization libraries or tools do you use on a regular basis?  (Select all that apply) - Selected Choice -  Ggplot / ggplot2 \n",
      "\n",
      "98: What data visualization libraries or tools do you use on a regular basis?  (Select all that apply) - Selected Choice -  Matplotlib \n",
      "\n",
      "99: What data visualization libraries or tools do you use on a regular basis?  (Select all that apply) - Selected Choice -  Altair \n",
      "\n",
      "100: What data visualization libraries or tools do you use on a regular basis?  (Select all that apply) - Selected Choice -  Shiny \n",
      "\n",
      "101: What data visualization libraries or tools do you use on a regular basis?  (Select all that apply) - Selected Choice -  D3.js \n",
      "\n",
      "102: What data visualization libraries or tools do you use on a regular basis?  (Select all that apply) - Selected Choice -  Plotly / Plotly Express \n",
      "\n",
      "103: What data visualization libraries or tools do you use on a regular basis?  (Select all that apply) - Selected Choice -  Bokeh \n",
      "\n",
      "104: What data visualization libraries or tools do you use on a regular basis?  (Select all that apply) - Selected Choice -  Seaborn \n",
      "\n",
      "105: What data visualization libraries or tools do you use on a regular basis?  (Select all that apply) - Selected Choice -  Geoplotlib \n",
      "\n",
      "106: What data visualization libraries or tools do you use on a regular basis?  (Select all that apply) - Selected Choice -  Leaflet / Folium \n",
      "\n",
      "107: What data visualization libraries or tools do you use on a regular basis?  (Select all that apply) - Selected Choice - None\n",
      "\n",
      "108: What data visualization libraries or tools do you use on a regular basis?  (Select all that apply) - Selected Choice - Other\n",
      "\n",
      "109: What data visualization libraries or tools do you use on a regular basis?  (Select all that apply) - Other - Text\n",
      "\n",
      "110: Which types of specialized hardware do you use on a regular basis?  (Select all that apply) - Selected Choice - CPUs\n",
      "\n",
      "111: Which types of specialized hardware do you use on a regular basis?  (Select all that apply) - Selected Choice - GPUs\n",
      "\n",
      "112: Which types of specialized hardware do you use on a regular basis?  (Select all that apply) - Selected Choice - TPUs\n",
      "\n",
      "113: Which types of specialized hardware do you use on a regular basis?  (Select all that apply) - Selected Choice - None / I do not know\n",
      "\n",
      "114: Which types of specialized hardware do you use on a regular basis?  (Select all that apply) - Selected Choice - Other\n",
      "\n",
      "115: Which types of specialized hardware do you use on a regular basis?  (Select all that apply) - Other - Text\n",
      "\n",
      "116: Have you ever used a TPU (tensor processing unit)?\n",
      "\n",
      "117: For how many years have you used machine learning methods?\n",
      "\n",
      "118: Which of the following ML algorithms do you use on a regular basis? (Select all that apply): - Selected Choice - Linear or Logistic Regression\n",
      "\n",
      "119: Which of the following ML algorithms do you use on a regular basis? (Select all that apply): - Selected Choice - Decision Trees or Random Forests\n",
      "\n",
      "120: Which of the following ML algorithms do you use on a regular basis? (Select all that apply): - Selected Choice - Gradient Boosting Machines (xgboost, lightgbm, etc)\n",
      "\n",
      "121: Which of the following ML algorithms do you use on a regular basis? (Select all that apply): - Selected Choice - Bayesian Approaches\n",
      "\n",
      "122: Which of the following ML algorithms do you use on a regular basis? (Select all that apply): - Selected Choice - Evolutionary Approaches\n",
      "\n",
      "123: Which of the following ML algorithms do you use on a regular basis? (Select all that apply): - Selected Choice - Dense Neural Networks (MLPs, etc)\n",
      "\n",
      "124: Which of the following ML algorithms do you use on a regular basis? (Select all that apply): - Selected Choice - Convolutional Neural Networks\n",
      "\n",
      "125: Which of the following ML algorithms do you use on a regular basis? (Select all that apply): - Selected Choice - Generative Adversarial Networks\n",
      "\n",
      "126: Which of the following ML algorithms do you use on a regular basis? (Select all that apply): - Selected Choice - Recurrent Neural Networks\n",
      "\n",
      "127: Which of the following ML algorithms do you use on a regular basis? (Select all that apply): - Selected Choice - Transformer Networks (BERT, gpt-2, etc)\n",
      "\n",
      "128: Which of the following ML algorithms do you use on a regular basis? (Select all that apply): - Selected Choice - None\n",
      "\n",
      "129: Which of the following ML algorithms do you use on a regular basis? (Select all that apply): - Selected Choice - Other\n",
      "\n",
      "130: Which of the following ML algorithms do you use on a regular basis? (Select all that apply): - Other - Text\n",
      "\n",
      "131: Which categories of ML tools do you use on a regular basis?  (Select all that apply) - Selected Choice - Automated data augmentation (e.g. imgaug, albumentations)\n",
      "\n",
      "132: Which categories of ML tools do you use on a regular basis?  (Select all that apply) - Selected Choice - Automated feature engineering/selection (e.g. tpot, boruta_py)\n",
      "\n",
      "133: Which categories of ML tools do you use on a regular basis?  (Select all that apply) - Selected Choice - Automated model selection (e.g. auto-sklearn, xcessiv)\n",
      "\n",
      "134: Which categories of ML tools do you use on a regular basis?  (Select all that apply) - Selected Choice - Automated model architecture searches (e.g. darts, enas)\n",
      "\n",
      "135: Which categories of ML tools do you use on a regular basis?  (Select all that apply) - Selected Choice - Automated hyperparameter tuning (e.g. hyperopt, ray.tune)\n",
      "\n",
      "136: Which categories of ML tools do you use on a regular basis?  (Select all that apply) - Selected Choice - Automation of full ML pipelines (e.g. Google AutoML, H20 Driverless AI)\n",
      "\n",
      "137: Which categories of ML tools do you use on a regular basis?  (Select all that apply) - Selected Choice - None\n",
      "\n",
      "138: Which categories of ML tools do you use on a regular basis?  (Select all that apply) - Selected Choice - Other\n",
      "\n",
      "139: Which categories of ML tools do you use on a regular basis?  (Select all that apply) - Other - Text\n",
      "\n",
      "140: Which categories of computer vision methods do you use on a regular basis?  (Select all that apply) - Selected Choice - General purpose image/video tools (PIL, cv2, skimage, etc)\n",
      "\n",
      "141: Which categories of computer vision methods do you use on a regular basis?  (Select all that apply) - Selected Choice - Image segmentation methods (U-Net, Mask R-CNN, etc)\n",
      "\n",
      "142: Which categories of computer vision methods do you use on a regular basis?  (Select all that apply) - Selected Choice - Object detection methods (YOLOv3, RetinaNet, etc)\n",
      "\n",
      "143: Which categories of computer vision methods do you use on a regular basis?  (Select all that apply) - Selected Choice - Image classification and other general purpose networks (VGG, Inception, ResNet, ResNeXt, NASNet, EfficientNet, etc)\n",
      "\n",
      "144: Which categories of computer vision methods do you use on a regular basis?  (Select all that apply) - Selected Choice - Generative Networks (GAN, VAE, etc)\n",
      "\n",
      "145: Which categories of computer vision methods do you use on a regular basis?  (Select all that apply) - Selected Choice - None\n",
      "\n",
      "146: Which categories of computer vision methods do you use on a regular basis?  (Select all that apply) - Selected Choice - Other\n",
      "\n",
      "147: Which categories of computer vision methods do you use on a regular basis?  (Select all that apply) - Other - Text\n",
      "\n",
      "148: Which of the following natural language processing (NLP) methods do you use on a regular basis?  (Select all that apply) - Selected Choice - Word embeddings/vectors (GLoVe, fastText, word2vec)\n",
      "\n",
      "149: Which of the following natural language processing (NLP) methods do you use on a regular basis?  (Select all that apply) - Selected Choice - Encoder-decorder models (seq2seq, vanilla transformers)\n",
      "\n",
      "150: Which of the following natural language processing (NLP) methods do you use on a regular basis?  (Select all that apply) - Selected Choice - Contextualized embeddings (ELMo, CoVe)\n",
      "\n",
      "151: Which of the following natural language processing (NLP) methods do you use on a regular basis?  (Select all that apply) - Selected Choice - Transformer language models (GPT-2, BERT, XLnet, etc)\n",
      "\n",
      "152: Which of the following natural language processing (NLP) methods do you use on a regular basis?  (Select all that apply) - Selected Choice - None\n",
      "\n",
      "153: Which of the following natural language processing (NLP) methods do you use on a regular basis?  (Select all that apply) - Selected Choice - Other\n",
      "\n",
      "154: Which of the following natural language processing (NLP) methods do you use on a regular basis?  (Select all that apply) - Other - Text\n",
      "\n",
      "155: Which of the following machine learning frameworks do you use on a regular basis? (Select all that apply) - Selected Choice -   Scikit-learn \n",
      "\n",
      "156: Which of the following machine learning frameworks do you use on a regular basis? (Select all that apply) - Selected Choice -   TensorFlow \n",
      "\n",
      "157: Which of the following machine learning frameworks do you use on a regular basis? (Select all that apply) - Selected Choice -  Keras \n",
      "\n",
      "158: Which of the following machine learning frameworks do you use on a regular basis? (Select all that apply) - Selected Choice -  RandomForest\n",
      "\n",
      "159: Which of the following machine learning frameworks do you use on a regular basis? (Select all that apply) - Selected Choice -  Xgboost \n",
      "\n",
      "160: Which of the following machine learning frameworks do you use on a regular basis? (Select all that apply) - Selected Choice -  PyTorch \n",
      "\n",
      "161: Which of the following machine learning frameworks do you use on a regular basis? (Select all that apply) - Selected Choice -  Caret \n",
      "\n",
      "162: Which of the following machine learning frameworks do you use on a regular basis? (Select all that apply) - Selected Choice -  LightGBM \n",
      "\n",
      "163: Which of the following machine learning frameworks do you use on a regular basis? (Select all that apply) - Selected Choice -  Spark MLib \n",
      "\n",
      "164: Which of the following machine learning frameworks do you use on a regular basis? (Select all that apply) - Selected Choice -  Fast.ai \n",
      "\n",
      "165: Which of the following machine learning frameworks do you use on a regular basis? (Select all that apply) - Selected Choice - None\n",
      "\n",
      "166: Which of the following machine learning frameworks do you use on a regular basis? (Select all that apply) - Selected Choice - Other\n",
      "\n",
      "167: Which of the following machine learning frameworks do you use on a regular basis? (Select all that apply) - Other - Text\n",
      "\n",
      "168: Which of the following cloud computing platforms do you use on a regular basis? (Select all that apply) - Selected Choice -  Google Cloud Platform (GCP) \n",
      "\n",
      "169: Which of the following cloud computing platforms do you use on a regular basis? (Select all that apply) - Selected Choice -  Amazon Web Services (AWS) \n",
      "\n",
      "170: Which of the following cloud computing platforms do you use on a regular basis? (Select all that apply) - Selected Choice -  Microsoft Azure \n",
      "\n",
      "171: Which of the following cloud computing platforms do you use on a regular basis? (Select all that apply) - Selected Choice -  IBM Cloud \n",
      "\n",
      "172: Which of the following cloud computing platforms do you use on a regular basis? (Select all that apply) - Selected Choice -  Alibaba Cloud \n",
      "\n",
      "173: Which of the following cloud computing platforms do you use on a regular basis? (Select all that apply) - Selected Choice -  Salesforce Cloud \n",
      "\n",
      "174: Which of the following cloud computing platforms do you use on a regular basis? (Select all that apply) - Selected Choice -  Oracle Cloud \n",
      "\n",
      "175: Which of the following cloud computing platforms do you use on a regular basis? (Select all that apply) - Selected Choice -  SAP Cloud \n",
      "\n",
      "176: Which of the following cloud computing platforms do you use on a regular basis? (Select all that apply) - Selected Choice -  VMware Cloud \n",
      "\n",
      "177: Which of the following cloud computing platforms do you use on a regular basis? (Select all that apply) - Selected Choice -  Red Hat Cloud \n",
      "\n",
      "178: Which of the following cloud computing platforms do you use on a regular basis? (Select all that apply) - Selected Choice - None\n",
      "\n",
      "179: Which of the following cloud computing platforms do you use on a regular basis? (Select all that apply) - Selected Choice - Other\n",
      "\n",
      "180: Which of the following cloud computing platforms do you use on a regular basis? (Select all that apply) - Other - Text\n",
      "\n",
      "181: Which specific cloud computing products do you use on a regular basis? (Select all that apply) - Selected Choice - AWS Elastic Compute Cloud (EC2)\n",
      "\n",
      "182: Which specific cloud computing products do you use on a regular basis? (Select all that apply) - Selected Choice - Google Compute Engine (GCE)\n",
      "\n",
      "183: Which specific cloud computing products do you use on a regular basis? (Select all that apply) - Selected Choice - AWS Lambda\n",
      "\n",
      "184: Which specific cloud computing products do you use on a regular basis? (Select all that apply) - Selected Choice - Azure Virtual Machines\n",
      "\n",
      "185: Which specific cloud computing products do you use on a regular basis? (Select all that apply) - Selected Choice - Google App Engine\n",
      "\n",
      "186: Which specific cloud computing products do you use on a regular basis? (Select all that apply) - Selected Choice - Google Cloud Functions\n",
      "\n",
      "187: Which specific cloud computing products do you use on a regular basis? (Select all that apply) - Selected Choice - AWS Elastic Beanstalk\n",
      "\n",
      "188: Which specific cloud computing products do you use on a regular basis? (Select all that apply) - Selected Choice - Google Kubernetes Engine\n",
      "\n",
      "189: Which specific cloud computing products do you use on a regular basis? (Select all that apply) - Selected Choice - AWS Batch\n",
      "\n",
      "190: Which specific cloud computing products do you use on a regular basis? (Select all that apply) - Selected Choice - Azure Container Service\n",
      "\n",
      "191: Which specific cloud computing products do you use on a regular basis? (Select all that apply) - Selected Choice - None\n",
      "\n",
      "192: Which specific cloud computing products do you use on a regular basis? (Select all that apply) - Selected Choice - Other\n",
      "\n",
      "193: Which specific cloud computing products do you use on a regular basis? (Select all that apply) - Other - Text\n",
      "\n",
      "194: Which specific big data / analytics products do you use on a regular basis? (Select all that apply) - Selected Choice - Google BigQuery\n",
      "\n",
      "195: Which specific big data / analytics products do you use on a regular basis? (Select all that apply) - Selected Choice - AWS Redshift\n",
      "\n",
      "196: Which specific big data / analytics products do you use on a regular basis? (Select all that apply) - Selected Choice - Databricks\n",
      "\n",
      "197: Which specific big data / analytics products do you use on a regular basis? (Select all that apply) - Selected Choice - AWS Elastic MapReduce\n",
      "\n",
      "198: Which specific big data / analytics products do you use on a regular basis? (Select all that apply) - Selected Choice - Teradata\n",
      "\n",
      "199: Which specific big data / analytics products do you use on a regular basis? (Select all that apply) - Selected Choice - Microsoft Analysis Services\n",
      "\n",
      "200: Which specific big data / analytics products do you use on a regular basis? (Select all that apply) - Selected Choice - Google Cloud Dataflow\n",
      "\n",
      "201: Which specific big data / analytics products do you use on a regular basis? (Select all that apply) - Selected Choice - AWS Athena\n",
      "\n",
      "202: Which specific big data / analytics products do you use on a regular basis? (Select all that apply) - Selected Choice - AWS Kinesis\n",
      "\n",
      "203: Which specific big data / analytics products do you use on a regular basis? (Select all that apply) - Selected Choice - Google Cloud Pub/Sub\n",
      "\n",
      "204: Which specific big data / analytics products do you use on a regular basis? (Select all that apply) - Selected Choice - None\n",
      "\n",
      "205: Which specific big data / analytics products do you use on a regular basis? (Select all that apply) - Selected Choice - Other\n",
      "\n",
      "206: Which specific big data / analytics products do you use on a regular basis? (Select all that apply) - Other - Text\n",
      "\n",
      "207: Which of the following machine learning products do you use on a regular basis? (Select all that apply) - Selected Choice - SAS\n",
      "\n",
      "208: Which of the following machine learning products do you use on a regular basis? (Select all that apply) - Selected Choice - Cloudera\n",
      "\n",
      "209: Which of the following machine learning products do you use on a regular basis? (Select all that apply) - Selected Choice - Azure Machine Learning Studio\n",
      "\n",
      "210: Which of the following machine learning products do you use on a regular basis? (Select all that apply) - Selected Choice - Google Cloud Machine Learning Engine\n",
      "\n",
      "211: Which of the following machine learning products do you use on a regular basis? (Select all that apply) - Selected Choice - Google Cloud Vision\n",
      "\n",
      "212: Which of the following machine learning products do you use on a regular basis? (Select all that apply) - Selected Choice - Google Cloud Speech-to-Text\n",
      "\n",
      "213: Which of the following machine learning products do you use on a regular basis? (Select all that apply) - Selected Choice - Google Cloud Natural Language\n",
      "\n",
      "214: Which of the following machine learning products do you use on a regular basis? (Select all that apply) - Selected Choice - RapidMiner\n",
      "\n",
      "215: Which of the following machine learning products do you use on a regular basis? (Select all that apply) - Selected Choice - Google Cloud Translation\n",
      "\n",
      "216: Which of the following machine learning products do you use on a regular basis? (Select all that apply) - Selected Choice - Amazon SageMaker\n",
      "\n",
      "217: Which of the following machine learning products do you use on a regular basis? (Select all that apply) - Selected Choice - None\n",
      "\n",
      "218: Which of the following machine learning products do you use on a regular basis? (Select all that apply) - Selected Choice - Other\n",
      "\n",
      "219: Which of the following machine learning products do you use on a regular basis? (Select all that apply) - Other - Text\n",
      "\n",
      "220: Which automated machine learning tools (or partial AutoML tools) do you use on a regular basis?  (Select all that apply) - Selected Choice -  Google AutoML \n",
      "\n",
      "221: Which automated machine learning tools (or partial AutoML tools) do you use on a regular basis?  (Select all that apply) - Selected Choice -  H20 Driverless AI  \n",
      "\n",
      "222: Which automated machine learning tools (or partial AutoML tools) do you use on a regular basis?  (Select all that apply) - Selected Choice -  Databricks AutoML \n",
      "\n",
      "223: Which automated machine learning tools (or partial AutoML tools) do you use on a regular basis?  (Select all that apply) - Selected Choice -  DataRobot AutoML \n",
      "\n",
      "224: Which automated machine learning tools (or partial AutoML tools) do you use on a regular basis?  (Select all that apply) - Selected Choice -   Tpot \n",
      "\n",
      "225: Which automated machine learning tools (or partial AutoML tools) do you use on a regular basis?  (Select all that apply) - Selected Choice -   Auto-Keras \n",
      "\n",
      "226: Which automated machine learning tools (or partial AutoML tools) do you use on a regular basis?  (Select all that apply) - Selected Choice -   Auto-Sklearn \n",
      "\n",
      "227: Which automated machine learning tools (or partial AutoML tools) do you use on a regular basis?  (Select all that apply) - Selected Choice -   Auto_ml \n",
      "\n",
      "228: Which automated machine learning tools (or partial AutoML tools) do you use on a regular basis?  (Select all that apply) - Selected Choice -   Xcessiv \n",
      "\n",
      "229: Which automated machine learning tools (or partial AutoML tools) do you use on a regular basis?  (Select all that apply) - Selected Choice -   MLbox \n",
      "\n",
      "230: Which automated machine learning tools (or partial AutoML tools) do you use on a regular basis?  (Select all that apply) - Selected Choice - None\n",
      "\n",
      "231: Which automated machine learning tools (or partial AutoML tools) do you use on a regular basis?  (Select all that apply) - Selected Choice - Other\n",
      "\n",
      "232: Which automated machine learning tools (or partial AutoML tools) do you use on a regular basis?  (Select all that apply) - Other - Text\n",
      "\n",
      "233: Which of the following relational database products do you use on a regular basis? (Select all that apply) - Selected Choice - MySQL\n",
      "\n",
      "234: Which of the following relational database products do you use on a regular basis? (Select all that apply) - Selected Choice - PostgresSQL\n",
      "\n",
      "235: Which of the following relational database products do you use on a regular basis? (Select all that apply) - Selected Choice - SQLite\n",
      "\n",
      "236: Which of the following relational database products do you use on a regular basis? (Select all that apply) - Selected Choice - Microsoft SQL Server\n",
      "\n",
      "237: Which of the following relational database products do you use on a regular basis? (Select all that apply) - Selected Choice - Oracle Database\n",
      "\n",
      "238: Which of the following relational database products do you use on a regular basis? (Select all that apply) - Selected Choice - Microsoft Access\n",
      "\n",
      "239: Which of the following relational database products do you use on a regular basis? (Select all that apply) - Selected Choice - AWS Relational Database Service\n",
      "\n",
      "240: Which of the following relational database products do you use on a regular basis? (Select all that apply) - Selected Choice - AWS DynamoDB\n",
      "\n",
      "241: Which of the following relational database products do you use on a regular basis? (Select all that apply) - Selected Choice - Azure SQL Database\n",
      "\n",
      "242: Which of the following relational database products do you use on a regular basis? (Select all that apply) - Selected Choice - Google Cloud SQL\n",
      "\n",
      "243: Which of the following relational database products do you use on a regular basis? (Select all that apply) - Selected Choice - None\n",
      "\n",
      "244: Which of the following relational database products do you use on a regular basis? (Select all that apply) - Selected Choice - Other\n",
      "\n",
      "245: Which of the following relational database products do you use on a regular basis? (Select all that apply) - Other - Text\n",
      "\n"
     ]
    }
   ],
   "source": [
    "for index, name in enumerate(df_mc_2019.columns):\n",
    "    print(str(index) + ': ' + name)\n",
    "    print('')"
   ]
  },
  {
   "cell_type": "code",
   "execution_count": null,
   "metadata": {},
   "outputs": [],
   "source": []
  },
  {
   "cell_type": "code",
   "execution_count": null,
   "metadata": {},
   "outputs": [],
   "source": []
  },
  {
   "cell_type": "code",
   "execution_count": null,
   "metadata": {},
   "outputs": [],
   "source": []
  },
  {
   "cell_type": "code",
   "execution_count": null,
   "metadata": {},
   "outputs": [],
   "source": []
  },
  {
   "cell_type": "code",
   "execution_count": null,
   "metadata": {},
   "outputs": [],
   "source": []
  }
 ],
 "metadata": {
  "kernelspec": {
   "display_name": "Python 3",
   "language": "python",
   "name": "python3"
  },
  "language_info": {
   "codemirror_mode": {
    "name": "ipython",
    "version": 3
   },
   "file_extension": ".py",
   "mimetype": "text/x-python",
   "name": "python",
   "nbconvert_exporter": "python",
   "pygments_lexer": "ipython3",
   "version": "3.7.7"
  }
 },
 "nbformat": 4,
 "nbformat_minor": 2
}
